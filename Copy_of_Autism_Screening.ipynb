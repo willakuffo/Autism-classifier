{
  "nbformat": 4,
  "nbformat_minor": 0,
  "metadata": {
    "kernelspec": {
      "display_name": "Python 3",
      "language": "python",
      "name": "python3"
    },
    "language_info": {
      "codemirror_mode": {
        "name": "ipython",
        "version": 3
      },
      "file_extension": ".py",
      "mimetype": "text/x-python",
      "name": "python",
      "nbconvert_exporter": "python",
      "pygments_lexer": "ipython3",
      "version": "3.6.9"
    },
    "colab": {
      "name": "Copy of Autism-Screening.ipynb",
      "provenance": [],
      "collapsed_sections": [
        "IiBGy6pq8JIX",
        "k6mBnPjTuhuy",
        "yaN-1qT3qXVZ",
        "IvcsPb2c1ftp",
        "4Wv2D_Py_1uj",
        "THIUTj8S5YG1",
        "9-OVc6VwAz_1",
        "sdLF4wsDPcCA",
        "yLQ9TA0rQkd_",
        "nmHi3B9WSYEa",
        "QQYZ02786_WQ"
      ],
      "include_colab_link": true
    }
  },
  "cells": [
    {
      "cell_type": "markdown",
      "metadata": {
        "id": "view-in-github",
        "colab_type": "text"
      },
      "source": [
        "<a href=\"https://colab.research.google.com/github/willakuffo/Autism-classifier/blob/master/Copy_of_Autism_Screening.ipynb\" target=\"_parent\"><img src=\"https://colab.research.google.com/assets/colab-badge.svg\" alt=\"Open In Colab\"/></a>"
      ]
    },
    {
      "cell_type": "markdown",
      "metadata": {
        "id": "IiBGy6pq8JIX"
      },
      "source": [
        "# Autistic Spectrum Disorder Screening Data   "
      ]
    },
    {
      "cell_type": "markdown",
      "metadata": {
        "id": "RpA3XhoH7-xH"
      },
      "source": [
        "**Abstract**: Autistic Spectrum Disorder (ASD) is a neurodevelopment  condition associated with significant healthcare costs, and early diagnosis can significantly reduce these. Unfortunately, waiting times for an ASD diagnosis are lengthy and procedures are not cost effective. The economic impact of autism and the increase in the number of ASD cases across the world reveals an urgent need for the development of easily implemented and effective screening methods. Therefore, a time-efficient and accessible ASD screening is imminent to help health professionals and inform individuals whether they should pursue formal clinical diagnosis.  The rapid growth in the number of ASD cases worldwide necessitates datasets related to behaviour traits. However, such datasets are rare making it difficult to perform thorough analyses to improve the efficiency, sensitivity, specificity and predictive accuracy of the ASD screening process. Presently, very limited autism datasets associated with clinical or screening are available and most of them are genetic in nature. Hence, we propose a new dataset related to autism screening of adults that contained 20 features to be utilised for further analysis especially in determining influential autistic traits and improving the classification of ASD cases. In this dataset, we record ten behavioural features (AQ-10-Child) plus ten individuals characteristics that have proved to be effective in detecting the ASD cases from controls in behaviour science. "
      ]
    },
    {
      "cell_type": "markdown",
      "metadata": {
        "id": "k6mBnPjTuhuy"
      },
      "source": [
        "# Data Summary statistics from research paper\n",
        "\n",
        "\n",
        "- Data Type: Multivariate OR Univariate OR Sequential OR Time-Series OR Text OR Domain-Theory\n",
        "Nominal / categorical, binary and continuous \n",
        "\n",
        "- Task: Classification\n",
        "\n",
        "- Attribute Type: Categorical, continuous and binary  \n",
        "- Area: Medical, health and social science\n",
        "- Format Type: Non-Matrix\n",
        "- Does your data set contain missing values? Yes\n",
        "- Number of Instances (records in your data set): 292\n",
        "- Number of Attributes (fields within each record): 21\n",
        "\n",
        "Relevant Information: For Further information about the attributes/feature see below table\n",
        "\n",
        "![](https://drive.google.com/uc?id=1K2xb6BEx_Ib88TT4bHX-aRLwplUVYADY)"
      ]
    },
    {
      "cell_type": "markdown",
      "metadata": {
        "id": "ggve4Yq6tJYE"
      },
      "source": [
        "**Source**:\n",
        "\n",
        "Fadi Fayez Thabtah\n",
        "Department of Digital Technology\n",
        "Manukau Institute of Technology,\n",
        "Auckland, New Zealand\n",
        "fadi.fayez@manukau.ac.nz"
      ]
    },
    {
      "cell_type": "markdown",
      "metadata": {
        "id": "xa8iqd6ItChj"
      },
      "source": [
        "**Relevant Papers**:\n",
        "\n",
        "1) Tabtah, F. (2017). Autism Spectrum Disorder Screening: Machine Learning Adaptation and DSM-5 Fulfillment. Proceedings of the 1st International Conference on Medical and Health Informatics 2017, pp.1-6. Taichung City, Taiwan, ACM.\n",
        "\n",
        "2) Thabtah, F. (2017). ASDTests. A mobile app for ASD screening. www.asdtests.com [accessed December 20th, 2017].\n",
        "\n",
        "3) Thabtah, F. (2017). Machine Learning in Autistic Spectrum Disorder Behavioural Research: A Review. To Appear in Informatics for Health and Social Care Journal. December, 2017 (in press)"
      ]
    },
    {
      "cell_type": "markdown",
      "metadata": {
        "id": "yaN-1qT3qXVZ"
      },
      "source": [
        "#Importing libraries"
      ]
    },
    {
      "cell_type": "code",
      "metadata": {
        "id": "CYS1RsDXyOYG",
        "colab": {
          "base_uri": "https://localhost:8080/"
        },
        "outputId": "63e43888-967d-463c-e70d-7eb3dbd2ac44"
      },
      "source": [
        "import sys\n",
        "IN_COLAB = 'google.colab' in sys.modules\n",
        "\n",
        "if IN_COLAB:\n",
        "    !pip install empiricaldist"
      ],
      "execution_count": null,
      "outputs": [
        {
          "output_type": "stream",
          "text": [
            "Collecting empiricaldist\n",
            "  Downloading https://files.pythonhosted.org/packages/c4/88/b6c44c1a5078224850473a8a6b82614d79147232113dd35e29de34b9ac8a/empiricaldist-0.3.9.tar.gz\n",
            "Building wheels for collected packages: empiricaldist\n",
            "  Building wheel for empiricaldist (setup.py) ... \u001b[?25l\u001b[?25hdone\n",
            "  Created wheel for empiricaldist: filename=empiricaldist-0.3.9-cp36-none-any.whl size=10157 sha256=7aff8981ea04e4ba381ed7d6f0b86720f052c2b3eaf7b986ce47b5465f425d04\n",
            "  Stored in directory: /root/.cache/pip/wheels/bf/70/8c/55788f5a5806e6da295e5da80d2c0ef286d9a8260a1e3142e1\n",
            "Successfully built empiricaldist\n",
            "Installing collected packages: empiricaldist\n",
            "Successfully installed empiricaldist-0.3.9\n"
          ],
          "name": "stdout"
        }
      ]
    },
    {
      "cell_type": "code",
      "metadata": {
        "id": "ukisnO5dumGs"
      },
      "source": [
        "\n",
        "from scipy.io import arff\n",
        "import pandas as pd\n",
        "import numpy as np\n",
        "from sklearn.preprocessing import LabelEncoder\n",
        "import matplotlib.pyplot as plt\n",
        "import seaborn as sns\n",
        "\n",
        "from empiricaldist import Pmf,Cdf"
      ],
      "execution_count": null,
      "outputs": []
    },
    {
      "cell_type": "markdown",
      "metadata": {
        "id": "IvcsPb2c1ftp"
      },
      "source": [
        "# Helper functions"
      ]
    },
    {
      "cell_type": "code",
      "metadata": {
        "id": "cXf-tm-c1ipt"
      },
      "source": [
        "def decorate(**options):\n",
        "    \"\"\"Decorate the current axes.\n",
        "    Call decorate with keyword arguments like\n",
        "    decorate(title='Title',\n",
        "             xlabel='x',\n",
        "             ylabel='y')\n",
        "    The keyword arguments can be any of the axis properties\n",
        "    https://matplotlib.org/api/axes_api.html\n",
        "    \"\"\"\n",
        "    plt.gca().set(**options)\n",
        "    plt.tight_layout()"
      ],
      "execution_count": null,
      "outputs": []
    },
    {
      "cell_type": "code",
      "metadata": {
        "id": "Rwo0S8Eo1pWp"
      },
      "source": [
        "def values(series):\n",
        "    \"\"\"Count the values and sort.\n",
        "    \n",
        "    series: pd.Series\n",
        "    \n",
        "    returns: series mapping from values to frequencies\n",
        "    \"\"\"\n",
        "    return series.value_counts().sort_index()"
      ],
      "execution_count": null,
      "outputs": []
    },
    {
      "cell_type": "markdown",
      "metadata": {
        "id": "4Wv2D_Py_1uj"
      },
      "source": [
        "#Downloading the data"
      ]
    },
    {
      "cell_type": "code",
      "metadata": {
        "id": "tzbrI3_Twp_Q"
      },
      "source": [
        "# import os\n",
        "\n",
        "# filename = 'Autism-Child-Data.arff'\n",
        "# if not os.path.exists(filename):\n",
        "#     !wget https://github.com/Lormenyo/Autism-classifier/raw/master/Autism-Screening-Child-Data/Autism-Child-Data.arff"
      ],
      "execution_count": null,
      "outputs": []
    },
    {
      "cell_type": "code",
      "metadata": {
        "id": "5kemS3UijKWT",
        "colab": {
          "base_uri": "https://localhost:8080/"
        },
        "outputId": "70353516-d8fc-4ed3-f479-154e87e3bbb9"
      },
      "source": [
        "import os\n",
        "import gdown\n",
        "\n",
        "filename2 = 'Autism_Data.arff'\n",
        "if not os.path.exists(filename2):\n",
        "    !gdown http://drive.google.com/uc?id=1byZ_EQAU0mh1v1nldrW0pfbsz_uVOZo6"
      ],
      "execution_count": null,
      "outputs": [
        {
          "output_type": "stream",
          "text": [
            "Downloading...\n",
            "From: http://drive.google.com/uc?id=1byZ_EQAU0mh1v1nldrW0pfbsz_uVOZo6\n",
            "To: /content/Autism_Data.arff\n",
            "\r  0% 0.00/58.6k [00:00<?, ?B/s]\r100% 58.6k/58.6k [00:00<00:00, 58.8MB/s]\n"
          ],
          "name": "stdout"
        }
      ]
    },
    {
      "cell_type": "markdown",
      "metadata": {
        "id": "THIUTj8S5YG1"
      },
      "source": [
        "#Loading the Data\n",
        ">The data contains mostly categorical variables. An_Score, where n is an integer form 1 to 10 are behavioural features. Whereas the other variables are represent individual characteristics"
      ]
    },
    {
      "cell_type": "code",
      "metadata": {
        "id": "cysGs_Nzo5Z-"
      },
      "source": [
        "data = pd.read_csv(filename2)\n",
        "\n",
        "df = pd.DataFrame(data)\n",
        "\n"
      ],
      "execution_count": null,
      "outputs": []
    },
    {
      "cell_type": "code",
      "metadata": {
        "id": "HHldEkX62UPB",
        "colab": {
          "base_uri": "https://localhost:8080/",
          "height": 573
        },
        "outputId": "df54ada1-1401-4e42-c335-3fc97465f489"
      },
      "source": [
        "df"
      ],
      "execution_count": null,
      "outputs": [
        {
          "output_type": "execute_result",
          "data": {
            "text/html": [
              "<div>\n",
              "<style scoped>\n",
              "    .dataframe tbody tr th:only-of-type {\n",
              "        vertical-align: middle;\n",
              "    }\n",
              "\n",
              "    .dataframe tbody tr th {\n",
              "        vertical-align: top;\n",
              "    }\n",
              "\n",
              "    .dataframe thead th {\n",
              "        text-align: right;\n",
              "    }\n",
              "</style>\n",
              "<table border=\"1\" class=\"dataframe\">\n",
              "  <thead>\n",
              "    <tr style=\"text-align: right;\">\n",
              "      <th></th>\n",
              "      <th>A1_Score</th>\n",
              "      <th>A2_Score</th>\n",
              "      <th>A3_Score</th>\n",
              "      <th>A4_Score</th>\n",
              "      <th>A5_Score</th>\n",
              "      <th>A6_Score</th>\n",
              "      <th>A7_Score</th>\n",
              "      <th>A8_Score</th>\n",
              "      <th>A9_Score</th>\n",
              "      <th>A10_Score</th>\n",
              "      <th>age</th>\n",
              "      <th>gender</th>\n",
              "      <th>ethnicity</th>\n",
              "      <th>jundice</th>\n",
              "      <th>austim</th>\n",
              "      <th>contry_of_res</th>\n",
              "      <th>used_app_before</th>\n",
              "      <th>result</th>\n",
              "      <th>age_desc</th>\n",
              "      <th>relation</th>\n",
              "      <th>Class/ASD</th>\n",
              "    </tr>\n",
              "  </thead>\n",
              "  <tbody>\n",
              "    <tr>\n",
              "      <th>0</th>\n",
              "      <td>1</td>\n",
              "      <td>1</td>\n",
              "      <td>1</td>\n",
              "      <td>1</td>\n",
              "      <td>0</td>\n",
              "      <td>0</td>\n",
              "      <td>1</td>\n",
              "      <td>1</td>\n",
              "      <td>0</td>\n",
              "      <td>0</td>\n",
              "      <td>26</td>\n",
              "      <td>f</td>\n",
              "      <td>White-European</td>\n",
              "      <td>no</td>\n",
              "      <td>no</td>\n",
              "      <td>'United States'</td>\n",
              "      <td>no</td>\n",
              "      <td>6</td>\n",
              "      <td>'18 and more'</td>\n",
              "      <td>Self</td>\n",
              "      <td>NO</td>\n",
              "    </tr>\n",
              "    <tr>\n",
              "      <th>1</th>\n",
              "      <td>1</td>\n",
              "      <td>1</td>\n",
              "      <td>0</td>\n",
              "      <td>1</td>\n",
              "      <td>0</td>\n",
              "      <td>0</td>\n",
              "      <td>0</td>\n",
              "      <td>1</td>\n",
              "      <td>0</td>\n",
              "      <td>1</td>\n",
              "      <td>24</td>\n",
              "      <td>m</td>\n",
              "      <td>Latino</td>\n",
              "      <td>no</td>\n",
              "      <td>yes</td>\n",
              "      <td>Brazil</td>\n",
              "      <td>no</td>\n",
              "      <td>5</td>\n",
              "      <td>'18 and more'</td>\n",
              "      <td>Self</td>\n",
              "      <td>NO</td>\n",
              "    </tr>\n",
              "    <tr>\n",
              "      <th>2</th>\n",
              "      <td>1</td>\n",
              "      <td>1</td>\n",
              "      <td>0</td>\n",
              "      <td>1</td>\n",
              "      <td>1</td>\n",
              "      <td>0</td>\n",
              "      <td>1</td>\n",
              "      <td>1</td>\n",
              "      <td>1</td>\n",
              "      <td>1</td>\n",
              "      <td>27</td>\n",
              "      <td>m</td>\n",
              "      <td>Latino</td>\n",
              "      <td>yes</td>\n",
              "      <td>yes</td>\n",
              "      <td>Spain</td>\n",
              "      <td>no</td>\n",
              "      <td>8</td>\n",
              "      <td>'18 and more'</td>\n",
              "      <td>Parent</td>\n",
              "      <td>YES</td>\n",
              "    </tr>\n",
              "    <tr>\n",
              "      <th>3</th>\n",
              "      <td>1</td>\n",
              "      <td>1</td>\n",
              "      <td>0</td>\n",
              "      <td>1</td>\n",
              "      <td>0</td>\n",
              "      <td>0</td>\n",
              "      <td>1</td>\n",
              "      <td>1</td>\n",
              "      <td>0</td>\n",
              "      <td>1</td>\n",
              "      <td>35</td>\n",
              "      <td>f</td>\n",
              "      <td>White-European</td>\n",
              "      <td>no</td>\n",
              "      <td>yes</td>\n",
              "      <td>'United States'</td>\n",
              "      <td>no</td>\n",
              "      <td>6</td>\n",
              "      <td>'18 and more'</td>\n",
              "      <td>Self</td>\n",
              "      <td>NO</td>\n",
              "    </tr>\n",
              "    <tr>\n",
              "      <th>4</th>\n",
              "      <td>1</td>\n",
              "      <td>0</td>\n",
              "      <td>0</td>\n",
              "      <td>0</td>\n",
              "      <td>0</td>\n",
              "      <td>0</td>\n",
              "      <td>0</td>\n",
              "      <td>1</td>\n",
              "      <td>0</td>\n",
              "      <td>0</td>\n",
              "      <td>40</td>\n",
              "      <td>f</td>\n",
              "      <td>?</td>\n",
              "      <td>no</td>\n",
              "      <td>no</td>\n",
              "      <td>Egypt</td>\n",
              "      <td>no</td>\n",
              "      <td>2</td>\n",
              "      <td>'18 and more'</td>\n",
              "      <td>?</td>\n",
              "      <td>NO</td>\n",
              "    </tr>\n",
              "    <tr>\n",
              "      <th>...</th>\n",
              "      <td>...</td>\n",
              "      <td>...</td>\n",
              "      <td>...</td>\n",
              "      <td>...</td>\n",
              "      <td>...</td>\n",
              "      <td>...</td>\n",
              "      <td>...</td>\n",
              "      <td>...</td>\n",
              "      <td>...</td>\n",
              "      <td>...</td>\n",
              "      <td>...</td>\n",
              "      <td>...</td>\n",
              "      <td>...</td>\n",
              "      <td>...</td>\n",
              "      <td>...</td>\n",
              "      <td>...</td>\n",
              "      <td>...</td>\n",
              "      <td>...</td>\n",
              "      <td>...</td>\n",
              "      <td>...</td>\n",
              "      <td>...</td>\n",
              "    </tr>\n",
              "    <tr>\n",
              "      <th>699</th>\n",
              "      <td>0</td>\n",
              "      <td>1</td>\n",
              "      <td>0</td>\n",
              "      <td>1</td>\n",
              "      <td>1</td>\n",
              "      <td>0</td>\n",
              "      <td>1</td>\n",
              "      <td>1</td>\n",
              "      <td>1</td>\n",
              "      <td>1</td>\n",
              "      <td>25</td>\n",
              "      <td>f</td>\n",
              "      <td>White-European</td>\n",
              "      <td>no</td>\n",
              "      <td>no</td>\n",
              "      <td>Russia</td>\n",
              "      <td>no</td>\n",
              "      <td>7</td>\n",
              "      <td>'18 and more'</td>\n",
              "      <td>Self</td>\n",
              "      <td>YES</td>\n",
              "    </tr>\n",
              "    <tr>\n",
              "      <th>700</th>\n",
              "      <td>1</td>\n",
              "      <td>0</td>\n",
              "      <td>0</td>\n",
              "      <td>0</td>\n",
              "      <td>0</td>\n",
              "      <td>0</td>\n",
              "      <td>0</td>\n",
              "      <td>1</td>\n",
              "      <td>0</td>\n",
              "      <td>1</td>\n",
              "      <td>34</td>\n",
              "      <td>m</td>\n",
              "      <td>Hispanic</td>\n",
              "      <td>no</td>\n",
              "      <td>no</td>\n",
              "      <td>Mexico</td>\n",
              "      <td>no</td>\n",
              "      <td>3</td>\n",
              "      <td>'18 and more'</td>\n",
              "      <td>Parent</td>\n",
              "      <td>NO</td>\n",
              "    </tr>\n",
              "    <tr>\n",
              "      <th>701</th>\n",
              "      <td>1</td>\n",
              "      <td>0</td>\n",
              "      <td>1</td>\n",
              "      <td>1</td>\n",
              "      <td>1</td>\n",
              "      <td>0</td>\n",
              "      <td>1</td>\n",
              "      <td>1</td>\n",
              "      <td>0</td>\n",
              "      <td>1</td>\n",
              "      <td>24</td>\n",
              "      <td>f</td>\n",
              "      <td>?</td>\n",
              "      <td>no</td>\n",
              "      <td>no</td>\n",
              "      <td>Russia</td>\n",
              "      <td>no</td>\n",
              "      <td>7</td>\n",
              "      <td>'18 and more'</td>\n",
              "      <td>?</td>\n",
              "      <td>YES</td>\n",
              "    </tr>\n",
              "    <tr>\n",
              "      <th>702</th>\n",
              "      <td>1</td>\n",
              "      <td>0</td>\n",
              "      <td>0</td>\n",
              "      <td>1</td>\n",
              "      <td>1</td>\n",
              "      <td>0</td>\n",
              "      <td>1</td>\n",
              "      <td>0</td>\n",
              "      <td>1</td>\n",
              "      <td>1</td>\n",
              "      <td>35</td>\n",
              "      <td>m</td>\n",
              "      <td>'South Asian'</td>\n",
              "      <td>no</td>\n",
              "      <td>no</td>\n",
              "      <td>Pakistan</td>\n",
              "      <td>no</td>\n",
              "      <td>6</td>\n",
              "      <td>'18 and more'</td>\n",
              "      <td>Self</td>\n",
              "      <td>NO</td>\n",
              "    </tr>\n",
              "    <tr>\n",
              "      <th>703</th>\n",
              "      <td>1</td>\n",
              "      <td>0</td>\n",
              "      <td>1</td>\n",
              "      <td>1</td>\n",
              "      <td>1</td>\n",
              "      <td>0</td>\n",
              "      <td>1</td>\n",
              "      <td>1</td>\n",
              "      <td>1</td>\n",
              "      <td>1</td>\n",
              "      <td>26</td>\n",
              "      <td>f</td>\n",
              "      <td>White-European</td>\n",
              "      <td>no</td>\n",
              "      <td>no</td>\n",
              "      <td>Cyprus</td>\n",
              "      <td>no</td>\n",
              "      <td>8</td>\n",
              "      <td>'18 and more'</td>\n",
              "      <td>Self</td>\n",
              "      <td>YES</td>\n",
              "    </tr>\n",
              "  </tbody>\n",
              "</table>\n",
              "<p>704 rows × 21 columns</p>\n",
              "</div>"
            ],
            "text/plain": [
              "     A1_Score  A2_Score  A3_Score  ...       age_desc  relation  Class/ASD\n",
              "0           1         1         1  ...  '18 and more'      Self         NO\n",
              "1           1         1         0  ...  '18 and more'      Self         NO\n",
              "2           1         1         0  ...  '18 and more'    Parent        YES\n",
              "3           1         1         0  ...  '18 and more'      Self         NO\n",
              "4           1         0         0  ...  '18 and more'         ?         NO\n",
              "..        ...       ...       ...  ...            ...       ...        ...\n",
              "699         0         1         0  ...  '18 and more'      Self        YES\n",
              "700         1         0         0  ...  '18 and more'    Parent         NO\n",
              "701         1         0         1  ...  '18 and more'         ?        YES\n",
              "702         1         0         0  ...  '18 and more'      Self         NO\n",
              "703         1         0         1  ...  '18 and more'      Self        YES\n",
              "\n",
              "[704 rows x 21 columns]"
            ]
          },
          "metadata": {
            "tags": []
          },
          "execution_count": 11
        }
      ]
    },
    {
      "cell_type": "code",
      "metadata": {
        "id": "5tcPhsHm4G4c",
        "colab": {
          "base_uri": "https://localhost:8080/"
        },
        "outputId": "71abb374-fef8-4060-ec3e-0b1a2dd999d4"
      },
      "source": [
        "#check column data types\n",
        "df.dtypes"
      ],
      "execution_count": null,
      "outputs": [
        {
          "output_type": "execute_result",
          "data": {
            "text/plain": [
              "A1_Score            int64\n",
              "A2_Score            int64\n",
              "A3_Score            int64\n",
              "A4_Score            int64\n",
              "A5_Score            int64\n",
              "A6_Score            int64\n",
              "A7_Score            int64\n",
              "A8_Score            int64\n",
              "A9_Score            int64\n",
              "A10_Score           int64\n",
              "age                object\n",
              "gender             object\n",
              "ethnicity          object\n",
              "jundice            object\n",
              "austim             object\n",
              "contry_of_res      object\n",
              "used_app_before    object\n",
              "result              int64\n",
              "age_desc           object\n",
              "relation           object\n",
              "Class/ASD          object\n",
              "dtype: object"
            ]
          },
          "metadata": {
            "tags": []
          },
          "execution_count": 12
        }
      ]
    },
    {
      "cell_type": "code",
      "metadata": {
        "id": "CHVYGINf4-0c"
      },
      "source": [
        ""
      ],
      "execution_count": null,
      "outputs": []
    },
    {
      "cell_type": "markdown",
      "metadata": {
        "id": "X36BJuVR5E4Q"
      },
      "source": [
        "Null or Missing Data. Ethnicity and relation columns have 95 missing data each"
      ]
    },
    {
      "cell_type": "code",
      "metadata": {
        "id": "np9QuBIt4wHj",
        "colab": {
          "base_uri": "https://localhost:8080/"
        },
        "outputId": "dbf9bfdc-5fdd-44ab-c3b5-56411ac6e7a9"
      },
      "source": [
        "#check for missing data nans\n",
        "df.isnull().sum()"
      ],
      "execution_count": null,
      "outputs": [
        {
          "output_type": "execute_result",
          "data": {
            "text/plain": [
              "A1_Score           0\n",
              "A2_Score           0\n",
              "A3_Score           0\n",
              "A4_Score           0\n",
              "A5_Score           0\n",
              "A6_Score           0\n",
              "A7_Score           0\n",
              "A8_Score           0\n",
              "A9_Score           0\n",
              "A10_Score          0\n",
              "age                0\n",
              "gender             0\n",
              "ethnicity          0\n",
              "jundice            0\n",
              "austim             0\n",
              "contry_of_res      0\n",
              "used_app_before    0\n",
              "result             0\n",
              "age_desc           0\n",
              "relation           0\n",
              "Class/ASD          0\n",
              "dtype: int64"
            ]
          },
          "metadata": {
            "tags": []
          },
          "execution_count": 13
        }
      ]
    },
    {
      "cell_type": "markdown",
      "metadata": {
        "id": "ZhFJjyJxdwF-"
      },
      "source": [
        "Handle missing data  `?` by replacing with nans "
      ]
    },
    {
      "cell_type": "code",
      "metadata": {
        "id": "YxDQZQ3ucCYS",
        "colab": {
          "base_uri": "https://localhost:8080/",
          "height": 573
        },
        "outputId": "b6ad4c83-2979-4ca8-dc6c-05b71ef25020"
      },
      "source": [
        "\n",
        "\n",
        "# Converting columns to the right data types and replace missing values with Nan\n",
        "for column in df.columns:\n",
        "  try:\n",
        "    df[column] = df[column].replace('?', np.nan)\n",
        "  except AttributeError: #when value in column is a float object\n",
        "    df[column] = df[column].apply(pd.to_numeric)\n",
        "\n",
        "df"
      ],
      "execution_count": null,
      "outputs": [
        {
          "output_type": "execute_result",
          "data": {
            "text/html": [
              "<div>\n",
              "<style scoped>\n",
              "    .dataframe tbody tr th:only-of-type {\n",
              "        vertical-align: middle;\n",
              "    }\n",
              "\n",
              "    .dataframe tbody tr th {\n",
              "        vertical-align: top;\n",
              "    }\n",
              "\n",
              "    .dataframe thead th {\n",
              "        text-align: right;\n",
              "    }\n",
              "</style>\n",
              "<table border=\"1\" class=\"dataframe\">\n",
              "  <thead>\n",
              "    <tr style=\"text-align: right;\">\n",
              "      <th></th>\n",
              "      <th>A1_Score</th>\n",
              "      <th>A2_Score</th>\n",
              "      <th>A3_Score</th>\n",
              "      <th>A4_Score</th>\n",
              "      <th>A5_Score</th>\n",
              "      <th>A6_Score</th>\n",
              "      <th>A7_Score</th>\n",
              "      <th>A8_Score</th>\n",
              "      <th>A9_Score</th>\n",
              "      <th>A10_Score</th>\n",
              "      <th>age</th>\n",
              "      <th>gender</th>\n",
              "      <th>ethnicity</th>\n",
              "      <th>jundice</th>\n",
              "      <th>austim</th>\n",
              "      <th>contry_of_res</th>\n",
              "      <th>used_app_before</th>\n",
              "      <th>result</th>\n",
              "      <th>age_desc</th>\n",
              "      <th>relation</th>\n",
              "      <th>Class/ASD</th>\n",
              "    </tr>\n",
              "  </thead>\n",
              "  <tbody>\n",
              "    <tr>\n",
              "      <th>0</th>\n",
              "      <td>1</td>\n",
              "      <td>1</td>\n",
              "      <td>1</td>\n",
              "      <td>1</td>\n",
              "      <td>0</td>\n",
              "      <td>0</td>\n",
              "      <td>1</td>\n",
              "      <td>1</td>\n",
              "      <td>0</td>\n",
              "      <td>0</td>\n",
              "      <td>26</td>\n",
              "      <td>f</td>\n",
              "      <td>White-European</td>\n",
              "      <td>no</td>\n",
              "      <td>no</td>\n",
              "      <td>'United States'</td>\n",
              "      <td>no</td>\n",
              "      <td>6</td>\n",
              "      <td>'18 and more'</td>\n",
              "      <td>Self</td>\n",
              "      <td>NO</td>\n",
              "    </tr>\n",
              "    <tr>\n",
              "      <th>1</th>\n",
              "      <td>1</td>\n",
              "      <td>1</td>\n",
              "      <td>0</td>\n",
              "      <td>1</td>\n",
              "      <td>0</td>\n",
              "      <td>0</td>\n",
              "      <td>0</td>\n",
              "      <td>1</td>\n",
              "      <td>0</td>\n",
              "      <td>1</td>\n",
              "      <td>24</td>\n",
              "      <td>m</td>\n",
              "      <td>Latino</td>\n",
              "      <td>no</td>\n",
              "      <td>yes</td>\n",
              "      <td>Brazil</td>\n",
              "      <td>no</td>\n",
              "      <td>5</td>\n",
              "      <td>'18 and more'</td>\n",
              "      <td>Self</td>\n",
              "      <td>NO</td>\n",
              "    </tr>\n",
              "    <tr>\n",
              "      <th>2</th>\n",
              "      <td>1</td>\n",
              "      <td>1</td>\n",
              "      <td>0</td>\n",
              "      <td>1</td>\n",
              "      <td>1</td>\n",
              "      <td>0</td>\n",
              "      <td>1</td>\n",
              "      <td>1</td>\n",
              "      <td>1</td>\n",
              "      <td>1</td>\n",
              "      <td>27</td>\n",
              "      <td>m</td>\n",
              "      <td>Latino</td>\n",
              "      <td>yes</td>\n",
              "      <td>yes</td>\n",
              "      <td>Spain</td>\n",
              "      <td>no</td>\n",
              "      <td>8</td>\n",
              "      <td>'18 and more'</td>\n",
              "      <td>Parent</td>\n",
              "      <td>YES</td>\n",
              "    </tr>\n",
              "    <tr>\n",
              "      <th>3</th>\n",
              "      <td>1</td>\n",
              "      <td>1</td>\n",
              "      <td>0</td>\n",
              "      <td>1</td>\n",
              "      <td>0</td>\n",
              "      <td>0</td>\n",
              "      <td>1</td>\n",
              "      <td>1</td>\n",
              "      <td>0</td>\n",
              "      <td>1</td>\n",
              "      <td>35</td>\n",
              "      <td>f</td>\n",
              "      <td>White-European</td>\n",
              "      <td>no</td>\n",
              "      <td>yes</td>\n",
              "      <td>'United States'</td>\n",
              "      <td>no</td>\n",
              "      <td>6</td>\n",
              "      <td>'18 and more'</td>\n",
              "      <td>Self</td>\n",
              "      <td>NO</td>\n",
              "    </tr>\n",
              "    <tr>\n",
              "      <th>4</th>\n",
              "      <td>1</td>\n",
              "      <td>0</td>\n",
              "      <td>0</td>\n",
              "      <td>0</td>\n",
              "      <td>0</td>\n",
              "      <td>0</td>\n",
              "      <td>0</td>\n",
              "      <td>1</td>\n",
              "      <td>0</td>\n",
              "      <td>0</td>\n",
              "      <td>40</td>\n",
              "      <td>f</td>\n",
              "      <td>NaN</td>\n",
              "      <td>no</td>\n",
              "      <td>no</td>\n",
              "      <td>Egypt</td>\n",
              "      <td>no</td>\n",
              "      <td>2</td>\n",
              "      <td>'18 and more'</td>\n",
              "      <td>NaN</td>\n",
              "      <td>NO</td>\n",
              "    </tr>\n",
              "    <tr>\n",
              "      <th>...</th>\n",
              "      <td>...</td>\n",
              "      <td>...</td>\n",
              "      <td>...</td>\n",
              "      <td>...</td>\n",
              "      <td>...</td>\n",
              "      <td>...</td>\n",
              "      <td>...</td>\n",
              "      <td>...</td>\n",
              "      <td>...</td>\n",
              "      <td>...</td>\n",
              "      <td>...</td>\n",
              "      <td>...</td>\n",
              "      <td>...</td>\n",
              "      <td>...</td>\n",
              "      <td>...</td>\n",
              "      <td>...</td>\n",
              "      <td>...</td>\n",
              "      <td>...</td>\n",
              "      <td>...</td>\n",
              "      <td>...</td>\n",
              "      <td>...</td>\n",
              "    </tr>\n",
              "    <tr>\n",
              "      <th>699</th>\n",
              "      <td>0</td>\n",
              "      <td>1</td>\n",
              "      <td>0</td>\n",
              "      <td>1</td>\n",
              "      <td>1</td>\n",
              "      <td>0</td>\n",
              "      <td>1</td>\n",
              "      <td>1</td>\n",
              "      <td>1</td>\n",
              "      <td>1</td>\n",
              "      <td>25</td>\n",
              "      <td>f</td>\n",
              "      <td>White-European</td>\n",
              "      <td>no</td>\n",
              "      <td>no</td>\n",
              "      <td>Russia</td>\n",
              "      <td>no</td>\n",
              "      <td>7</td>\n",
              "      <td>'18 and more'</td>\n",
              "      <td>Self</td>\n",
              "      <td>YES</td>\n",
              "    </tr>\n",
              "    <tr>\n",
              "      <th>700</th>\n",
              "      <td>1</td>\n",
              "      <td>0</td>\n",
              "      <td>0</td>\n",
              "      <td>0</td>\n",
              "      <td>0</td>\n",
              "      <td>0</td>\n",
              "      <td>0</td>\n",
              "      <td>1</td>\n",
              "      <td>0</td>\n",
              "      <td>1</td>\n",
              "      <td>34</td>\n",
              "      <td>m</td>\n",
              "      <td>Hispanic</td>\n",
              "      <td>no</td>\n",
              "      <td>no</td>\n",
              "      <td>Mexico</td>\n",
              "      <td>no</td>\n",
              "      <td>3</td>\n",
              "      <td>'18 and more'</td>\n",
              "      <td>Parent</td>\n",
              "      <td>NO</td>\n",
              "    </tr>\n",
              "    <tr>\n",
              "      <th>701</th>\n",
              "      <td>1</td>\n",
              "      <td>0</td>\n",
              "      <td>1</td>\n",
              "      <td>1</td>\n",
              "      <td>1</td>\n",
              "      <td>0</td>\n",
              "      <td>1</td>\n",
              "      <td>1</td>\n",
              "      <td>0</td>\n",
              "      <td>1</td>\n",
              "      <td>24</td>\n",
              "      <td>f</td>\n",
              "      <td>NaN</td>\n",
              "      <td>no</td>\n",
              "      <td>no</td>\n",
              "      <td>Russia</td>\n",
              "      <td>no</td>\n",
              "      <td>7</td>\n",
              "      <td>'18 and more'</td>\n",
              "      <td>NaN</td>\n",
              "      <td>YES</td>\n",
              "    </tr>\n",
              "    <tr>\n",
              "      <th>702</th>\n",
              "      <td>1</td>\n",
              "      <td>0</td>\n",
              "      <td>0</td>\n",
              "      <td>1</td>\n",
              "      <td>1</td>\n",
              "      <td>0</td>\n",
              "      <td>1</td>\n",
              "      <td>0</td>\n",
              "      <td>1</td>\n",
              "      <td>1</td>\n",
              "      <td>35</td>\n",
              "      <td>m</td>\n",
              "      <td>'South Asian'</td>\n",
              "      <td>no</td>\n",
              "      <td>no</td>\n",
              "      <td>Pakistan</td>\n",
              "      <td>no</td>\n",
              "      <td>6</td>\n",
              "      <td>'18 and more'</td>\n",
              "      <td>Self</td>\n",
              "      <td>NO</td>\n",
              "    </tr>\n",
              "    <tr>\n",
              "      <th>703</th>\n",
              "      <td>1</td>\n",
              "      <td>0</td>\n",
              "      <td>1</td>\n",
              "      <td>1</td>\n",
              "      <td>1</td>\n",
              "      <td>0</td>\n",
              "      <td>1</td>\n",
              "      <td>1</td>\n",
              "      <td>1</td>\n",
              "      <td>1</td>\n",
              "      <td>26</td>\n",
              "      <td>f</td>\n",
              "      <td>White-European</td>\n",
              "      <td>no</td>\n",
              "      <td>no</td>\n",
              "      <td>Cyprus</td>\n",
              "      <td>no</td>\n",
              "      <td>8</td>\n",
              "      <td>'18 and more'</td>\n",
              "      <td>Self</td>\n",
              "      <td>YES</td>\n",
              "    </tr>\n",
              "  </tbody>\n",
              "</table>\n",
              "<p>704 rows × 21 columns</p>\n",
              "</div>"
            ],
            "text/plain": [
              "     A1_Score  A2_Score  A3_Score  ...       age_desc  relation  Class/ASD\n",
              "0           1         1         1  ...  '18 and more'      Self         NO\n",
              "1           1         1         0  ...  '18 and more'      Self         NO\n",
              "2           1         1         0  ...  '18 and more'    Parent        YES\n",
              "3           1         1         0  ...  '18 and more'      Self         NO\n",
              "4           1         0         0  ...  '18 and more'       NaN         NO\n",
              "..        ...       ...       ...  ...            ...       ...        ...\n",
              "699         0         1         0  ...  '18 and more'      Self        YES\n",
              "700         1         0         0  ...  '18 and more'    Parent         NO\n",
              "701         1         0         1  ...  '18 and more'       NaN        YES\n",
              "702         1         0         0  ...  '18 and more'      Self         NO\n",
              "703         1         0         1  ...  '18 and more'      Self        YES\n",
              "\n",
              "[704 rows x 21 columns]"
            ]
          },
          "metadata": {
            "tags": []
          },
          "execution_count": 14
        }
      ]
    },
    {
      "cell_type": "code",
      "metadata": {
        "id": "c9IaIjge4f-5",
        "colab": {
          "base_uri": "https://localhost:8080/"
        },
        "outputId": "50431868-86fc-44e4-ac06-16495d9db949"
      },
      "source": [
        "#replaced with nans\n",
        "df.isnull().sum()"
      ],
      "execution_count": null,
      "outputs": [
        {
          "output_type": "execute_result",
          "data": {
            "text/plain": [
              "A1_Score            0\n",
              "A2_Score            0\n",
              "A3_Score            0\n",
              "A4_Score            0\n",
              "A5_Score            0\n",
              "A6_Score            0\n",
              "A7_Score            0\n",
              "A8_Score            0\n",
              "A9_Score            0\n",
              "A10_Score           0\n",
              "age                 2\n",
              "gender              0\n",
              "ethnicity          95\n",
              "jundice             0\n",
              "austim              0\n",
              "contry_of_res       0\n",
              "used_app_before     0\n",
              "result              0\n",
              "age_desc            0\n",
              "relation           95\n",
              "Class/ASD           0\n",
              "dtype: int64"
            ]
          },
          "metadata": {
            "tags": []
          },
          "execution_count": 15
        }
      ]
    },
    {
      "cell_type": "code",
      "metadata": {
        "id": "F8F3qN9TBsjU"
      },
      "source": [
        ""
      ],
      "execution_count": null,
      "outputs": []
    },
    {
      "cell_type": "code",
      "metadata": {
        "id": "IMrKeaM05qWx"
      },
      "source": [
        "\n"
      ],
      "execution_count": null,
      "outputs": []
    },
    {
      "cell_type": "markdown",
      "metadata": {
        "id": "3I_BVvw8UlxB"
      },
      "source": [
        "correcting spelling of column names"
      ]
    },
    {
      "cell_type": "code",
      "metadata": {
        "id": "krKiWLgFT-Cc"
      },
      "source": [
        "df = df.rename(columns={'austim': 'autism','contry_of_res':'country_of_res'})"
      ],
      "execution_count": null,
      "outputs": []
    },
    {
      "cell_type": "code",
      "metadata": {
        "id": "s53GiQu2BtPN",
        "colab": {
          "base_uri": "https://localhost:8080/"
        },
        "outputId": "87811feb-b771-4ffc-a1b8-20763c79f3c7"
      },
      "source": [
        "df.columns"
      ],
      "execution_count": null,
      "outputs": [
        {
          "output_type": "execute_result",
          "data": {
            "text/plain": [
              "Index(['A1_Score', 'A2_Score', 'A3_Score', 'A4_Score', 'A5_Score', 'A6_Score',\n",
              "       'A7_Score', 'A8_Score', 'A9_Score', 'A10_Score', 'age', 'gender',\n",
              "       'ethnicity', 'jundice', 'autism', 'country_of_res', 'used_app_before',\n",
              "       'result', 'age_desc', 'relation', 'Class/ASD'],\n",
              "      dtype='object')"
            ]
          },
          "metadata": {
            "tags": []
          },
          "execution_count": 17
        }
      ]
    },
    {
      "cell_type": "markdown",
      "metadata": {
        "id": "vHfSpku_eTwA"
      },
      "source": [
        "Summary statistics"
      ]
    },
    {
      "cell_type": "code",
      "metadata": {
        "id": "rwOK6YB9umG2",
        "colab": {
          "base_uri": "https://localhost:8080/",
          "height": 297
        },
        "outputId": "7ef38982-4823-4628-9f53-71a6634b5b22"
      },
      "source": [
        "#leaves out some columns\n",
        "df.describe()"
      ],
      "execution_count": null,
      "outputs": [
        {
          "output_type": "execute_result",
          "data": {
            "text/html": [
              "<div>\n",
              "<style scoped>\n",
              "    .dataframe tbody tr th:only-of-type {\n",
              "        vertical-align: middle;\n",
              "    }\n",
              "\n",
              "    .dataframe tbody tr th {\n",
              "        vertical-align: top;\n",
              "    }\n",
              "\n",
              "    .dataframe thead th {\n",
              "        text-align: right;\n",
              "    }\n",
              "</style>\n",
              "<table border=\"1\" class=\"dataframe\">\n",
              "  <thead>\n",
              "    <tr style=\"text-align: right;\">\n",
              "      <th></th>\n",
              "      <th>A1_Score</th>\n",
              "      <th>A2_Score</th>\n",
              "      <th>A3_Score</th>\n",
              "      <th>A4_Score</th>\n",
              "      <th>A5_Score</th>\n",
              "      <th>A6_Score</th>\n",
              "      <th>A7_Score</th>\n",
              "      <th>A8_Score</th>\n",
              "      <th>A9_Score</th>\n",
              "      <th>A10_Score</th>\n",
              "      <th>result</th>\n",
              "    </tr>\n",
              "  </thead>\n",
              "  <tbody>\n",
              "    <tr>\n",
              "      <th>count</th>\n",
              "      <td>704.000000</td>\n",
              "      <td>704.000000</td>\n",
              "      <td>704.000000</td>\n",
              "      <td>704.000000</td>\n",
              "      <td>704.000000</td>\n",
              "      <td>704.000000</td>\n",
              "      <td>704.000000</td>\n",
              "      <td>704.000000</td>\n",
              "      <td>704.000000</td>\n",
              "      <td>704.000000</td>\n",
              "      <td>704.000000</td>\n",
              "    </tr>\n",
              "    <tr>\n",
              "      <th>mean</th>\n",
              "      <td>0.721591</td>\n",
              "      <td>0.453125</td>\n",
              "      <td>0.457386</td>\n",
              "      <td>0.495739</td>\n",
              "      <td>0.498580</td>\n",
              "      <td>0.284091</td>\n",
              "      <td>0.417614</td>\n",
              "      <td>0.649148</td>\n",
              "      <td>0.323864</td>\n",
              "      <td>0.573864</td>\n",
              "      <td>4.875000</td>\n",
              "    </tr>\n",
              "    <tr>\n",
              "      <th>std</th>\n",
              "      <td>0.448535</td>\n",
              "      <td>0.498152</td>\n",
              "      <td>0.498535</td>\n",
              "      <td>0.500337</td>\n",
              "      <td>0.500353</td>\n",
              "      <td>0.451301</td>\n",
              "      <td>0.493516</td>\n",
              "      <td>0.477576</td>\n",
              "      <td>0.468281</td>\n",
              "      <td>0.494866</td>\n",
              "      <td>2.501493</td>\n",
              "    </tr>\n",
              "    <tr>\n",
              "      <th>min</th>\n",
              "      <td>0.000000</td>\n",
              "      <td>0.000000</td>\n",
              "      <td>0.000000</td>\n",
              "      <td>0.000000</td>\n",
              "      <td>0.000000</td>\n",
              "      <td>0.000000</td>\n",
              "      <td>0.000000</td>\n",
              "      <td>0.000000</td>\n",
              "      <td>0.000000</td>\n",
              "      <td>0.000000</td>\n",
              "      <td>0.000000</td>\n",
              "    </tr>\n",
              "    <tr>\n",
              "      <th>25%</th>\n",
              "      <td>0.000000</td>\n",
              "      <td>0.000000</td>\n",
              "      <td>0.000000</td>\n",
              "      <td>0.000000</td>\n",
              "      <td>0.000000</td>\n",
              "      <td>0.000000</td>\n",
              "      <td>0.000000</td>\n",
              "      <td>0.000000</td>\n",
              "      <td>0.000000</td>\n",
              "      <td>0.000000</td>\n",
              "      <td>3.000000</td>\n",
              "    </tr>\n",
              "    <tr>\n",
              "      <th>50%</th>\n",
              "      <td>1.000000</td>\n",
              "      <td>0.000000</td>\n",
              "      <td>0.000000</td>\n",
              "      <td>0.000000</td>\n",
              "      <td>0.000000</td>\n",
              "      <td>0.000000</td>\n",
              "      <td>0.000000</td>\n",
              "      <td>1.000000</td>\n",
              "      <td>0.000000</td>\n",
              "      <td>1.000000</td>\n",
              "      <td>4.000000</td>\n",
              "    </tr>\n",
              "    <tr>\n",
              "      <th>75%</th>\n",
              "      <td>1.000000</td>\n",
              "      <td>1.000000</td>\n",
              "      <td>1.000000</td>\n",
              "      <td>1.000000</td>\n",
              "      <td>1.000000</td>\n",
              "      <td>1.000000</td>\n",
              "      <td>1.000000</td>\n",
              "      <td>1.000000</td>\n",
              "      <td>1.000000</td>\n",
              "      <td>1.000000</td>\n",
              "      <td>7.000000</td>\n",
              "    </tr>\n",
              "    <tr>\n",
              "      <th>max</th>\n",
              "      <td>1.000000</td>\n",
              "      <td>1.000000</td>\n",
              "      <td>1.000000</td>\n",
              "      <td>1.000000</td>\n",
              "      <td>1.000000</td>\n",
              "      <td>1.000000</td>\n",
              "      <td>1.000000</td>\n",
              "      <td>1.000000</td>\n",
              "      <td>1.000000</td>\n",
              "      <td>1.000000</td>\n",
              "      <td>10.000000</td>\n",
              "    </tr>\n",
              "  </tbody>\n",
              "</table>\n",
              "</div>"
            ],
            "text/plain": [
              "         A1_Score    A2_Score    A3_Score  ...    A9_Score   A10_Score      result\n",
              "count  704.000000  704.000000  704.000000  ...  704.000000  704.000000  704.000000\n",
              "mean     0.721591    0.453125    0.457386  ...    0.323864    0.573864    4.875000\n",
              "std      0.448535    0.498152    0.498535  ...    0.468281    0.494866    2.501493\n",
              "min      0.000000    0.000000    0.000000  ...    0.000000    0.000000    0.000000\n",
              "25%      0.000000    0.000000    0.000000  ...    0.000000    0.000000    3.000000\n",
              "50%      1.000000    0.000000    0.000000  ...    0.000000    1.000000    4.000000\n",
              "75%      1.000000    1.000000    1.000000  ...    1.000000    1.000000    7.000000\n",
              "max      1.000000    1.000000    1.000000  ...    1.000000    1.000000   10.000000\n",
              "\n",
              "[8 rows x 11 columns]"
            ]
          },
          "metadata": {
            "tags": []
          },
          "execution_count": 18
        }
      ]
    },
    {
      "cell_type": "markdown",
      "metadata": {
        "id": "9-OVc6VwAz_1"
      },
      "source": [
        "##We want to explore these variables\n",
        "\n",
        "- age\t\n",
        "- gender\n",
        "- ethnicity\t\n",
        "- jundice\t\n",
        "- autism\t\n",
        "- contry_of_res\t\n",
        "\t\n"
      ]
    },
    {
      "cell_type": "code",
      "metadata": {
        "id": "j3A8Rto2Ay55"
      },
      "source": [
        "explore_columns = ['age','gender','ethnicity','jundice','autism','country_of_res','result','Class/ASD']"
      ],
      "execution_count": null,
      "outputs": []
    },
    {
      "cell_type": "code",
      "metadata": {
        "id": "INjnwmz9PbiM"
      },
      "source": [
        ""
      ],
      "execution_count": null,
      "outputs": []
    },
    {
      "cell_type": "markdown",
      "metadata": {
        "id": "sdLF4wsDPcCA"
      },
      "source": [
        "\n",
        "\n",
        "> # Age\n",
        "--------------"
      ]
    },
    {
      "cell_type": "markdown",
      "metadata": {
        "id": "RiRFs0AIMpGU"
      },
      "source": [
        "age has 2 missing values"
      ]
    },
    {
      "cell_type": "code",
      "metadata": {
        "colab": {
          "base_uri": "https://localhost:8080/"
        },
        "id": "uvx2X_2-LDC6",
        "outputId": "5c2181a4-7171-4d6e-850f-0b77ea8f2086"
      },
      "source": [
        "# 2 nans\n",
        "df['age'].isnull().value_counts()"
      ],
      "execution_count": null,
      "outputs": [
        {
          "output_type": "execute_result",
          "data": {
            "text/plain": [
              "False    702\n",
              "True       2\n",
              "Name: age, dtype: int64"
            ]
          },
          "metadata": {
            "tags": []
          },
          "execution_count": 20
        }
      ]
    },
    {
      "cell_type": "markdown",
      "metadata": {
        "id": "Qjs9FhFkMuam"
      },
      "source": [
        "count of the ages"
      ]
    },
    {
      "cell_type": "code",
      "metadata": {
        "id": "Xuc5LzTtPzZ6",
        "colab": {
          "base_uri": "https://localhost:8080/"
        },
        "outputId": "444fbcb2-6a11-44df-b2a9-47bf4dcd07f5"
      },
      "source": [
        "df['age'].value_counts()"
      ],
      "execution_count": null,
      "outputs": [
        {
          "output_type": "execute_result",
          "data": {
            "text/plain": [
              "21     49\n",
              "20     46\n",
              "22     37\n",
              "23     37\n",
              "19     35\n",
              "24     34\n",
              "27     31\n",
              "18     31\n",
              "30     30\n",
              "26     28\n",
              "29     27\n",
              "25     27\n",
              "28     24\n",
              "31     21\n",
              "32     18\n",
              "17     18\n",
              "37     17\n",
              "35     17\n",
              "40     16\n",
              "33     16\n",
              "42     15\n",
              "36     13\n",
              "34     12\n",
              "38     12\n",
              "43     11\n",
              "44     10\n",
              "47      8\n",
              "39      7\n",
              "53      6\n",
              "55      6\n",
              "46      6\n",
              "52      5\n",
              "50      5\n",
              "48      4\n",
              "45      4\n",
              "41      3\n",
              "49      3\n",
              "61      2\n",
              "54      2\n",
              "56      2\n",
              "58      2\n",
              "51      1\n",
              "60      1\n",
              "64      1\n",
              "59      1\n",
              "383     1\n",
              "Name: age, dtype: int64"
            ]
          },
          "metadata": {
            "tags": []
          },
          "execution_count": 21
        }
      ]
    },
    {
      "cell_type": "markdown",
      "metadata": {
        "id": "Tp6LYE10MyEY"
      },
      "source": [
        "For some reason, though dtype says int64, the type of the ages itself is a string. Not sure why. To deal with this, i am going to replace the nans first with `909` and then replace `909` with the mean of the ages. There is also an outlier `383`. This will be replaced by `909` too and later replaced with the mean."
      ]
    },
    {
      "cell_type": "code",
      "metadata": {
        "colab": {
          "base_uri": "https://localhost:8080/"
        },
        "id": "7IuNYjQ8NW-B",
        "outputId": "e923e7a7-3e51-4168-9a78-d982d95a8f53"
      },
      "source": [
        "df['age'][0],type(df['age'][0])"
      ],
      "execution_count": null,
      "outputs": [
        {
          "output_type": "execute_result",
          "data": {
            "text/plain": [
              "('26', str)"
            ]
          },
          "metadata": {
            "tags": []
          },
          "execution_count": 22
        }
      ]
    },
    {
      "cell_type": "code",
      "metadata": {
        "id": "oyDu2vYEIztA"
      },
      "source": [
        "#replace\n",
        "df['age'] = df['age'].replace(np.nan,'909') #replace nans\n",
        "df['age'] = df['age'].replace('383','909') #replace 383"
      ],
      "execution_count": null,
      "outputs": []
    },
    {
      "cell_type": "markdown",
      "metadata": {
        "id": "KLKBFFbiOwC3"
      },
      "source": [
        "Convert to int"
      ]
    },
    {
      "cell_type": "code",
      "metadata": {
        "id": "C_EUHOvQOu4L"
      },
      "source": [
        "df['age'] = df['age'].astype(np.int64)"
      ],
      "execution_count": null,
      "outputs": []
    },
    {
      "cell_type": "markdown",
      "metadata": {
        "id": "ROv1wUL7P2IL"
      },
      "source": [
        "Now in proper type"
      ]
    },
    {
      "cell_type": "code",
      "metadata": {
        "colab": {
          "base_uri": "https://localhost:8080/"
        },
        "id": "o3dp9us6Ptvp",
        "outputId": "3502bf36-46b2-40f3-8ffe-3dc9904bd337"
      },
      "source": [
        "df['age'][0],type(df['age'][0])"
      ],
      "execution_count": null,
      "outputs": [
        {
          "output_type": "execute_result",
          "data": {
            "text/plain": [
              "(26, numpy.int64)"
            ]
          },
          "metadata": {
            "tags": []
          },
          "execution_count": 25
        }
      ]
    },
    {
      "cell_type": "markdown",
      "metadata": {
        "id": "rkP64LxlP-D3"
      },
      "source": [
        "Replace `909` which is also now type int with mean of ages"
      ]
    },
    {
      "cell_type": "code",
      "metadata": {
        "id": "-KVUZsXZTNee"
      },
      "source": [
        "df['age'] = df['age'].replace(909, df['age'].mean())"
      ],
      "execution_count": null,
      "outputs": []
    },
    {
      "cell_type": "code",
      "metadata": {
        "id": "dXqzhgLkPzi7",
        "colab": {
          "base_uri": "https://localhost:8080/"
        },
        "outputId": "9da3ad4e-c300-4bb5-c859-78eb3af44a56"
      },
      "source": [
        "df['age'].describe()"
      ],
      "execution_count": null,
      "outputs": [
        {
          "output_type": "execute_result",
          "data": {
            "text/plain": [
              "count    704.000000\n",
              "mean      29.209985\n",
              "std        9.693863\n",
              "min       17.000000\n",
              "25%       21.000000\n",
              "50%       27.000000\n",
              "75%       35.000000\n",
              "max       64.000000\n",
              "Name: age, dtype: float64"
            ]
          },
          "metadata": {
            "tags": []
          },
          "execution_count": 27
        }
      ]
    },
    {
      "cell_type": "code",
      "metadata": {
        "id": "EmqPApZxQjbl"
      },
      "source": [
        ""
      ],
      "execution_count": null,
      "outputs": []
    },
    {
      "cell_type": "markdown",
      "metadata": {
        "id": "yLQ9TA0rQkd_"
      },
      "source": [
        "##Cummulative frequency Distribution of the ages"
      ]
    },
    {
      "cell_type": "code",
      "metadata": {
        "id": "_MtDoj2uPzrn",
        "colab": {
          "base_uri": "https://localhost:8080/",
          "height": 440
        },
        "outputId": "92a3575f-8f7b-4f06-d434-0fb110389423"
      },
      "source": [
        "plt.figure(figsize=(10,6))\n",
        "cdf = Cdf.from_seq(df['age'])\n",
        "cdf.plot(alpha=0.7)\n",
        "\n",
        "decorate(xlabel='age',\n",
        "         ylabel='CDF',\n",
        "         title='cummulative Distribution of age')\n",
        "\n",
        "plt.xticks(rotation=0);"
      ],
      "execution_count": null,
      "outputs": [
        {
          "output_type": "display_data",
          "data": {
            "image/png": "[encoded data removed]",
            "text/plain": [
              "<Figure size 720x432 with 1 Axes>"
            ]
          },
          "metadata": {
            "tags": [],
            "needs_background": "light"
          }
        }
      ]
    },
    {
      "cell_type": "markdown",
      "metadata": {
        "id": "YUFkUPnORmGD"
      },
      "source": [
        "50% of the repondents are 27 and below"
      ]
    },
    {
      "cell_type": "code",
      "metadata": {
        "colab": {
          "base_uri": "https://localhost:8080/"
        },
        "id": "TgegzZFaQu0V",
        "outputId": "581023c9-a40e-4e62-8919-cd3d24ef4646"
      },
      "source": [
        "cdf.inverse(0.5)"
      ],
      "execution_count": null,
      "outputs": [
        {
          "output_type": "execute_result",
          "data": {
            "text/plain": [
              "array(27.)"
            ]
          },
          "metadata": {
            "tags": []
          },
          "execution_count": 29
        }
      ]
    },
    {
      "cell_type": "markdown",
      "metadata": {
        "id": "kTsVL4edaQH7"
      },
      "source": [
        "KDE of Ages. Skewed to the left"
      ]
    },
    {
      "cell_type": "code",
      "metadata": {
        "colab": {
          "base_uri": "https://localhost:8080/",
          "height": 295
        },
        "id": "C05LR2PcZT4j",
        "outputId": "1a94bb29-872b-4dd5-de0e-3afffadffdae"
      },
      "source": [
        "sns.kdeplot(df['age'])"
      ],
      "execution_count": null,
      "outputs": [
        {
          "output_type": "execute_result",
          "data": {
            "text/plain": [
              "<matplotlib.axes._subplots.AxesSubplot at 0x7fbf16b11588>"
            ]
          },
          "metadata": {
            "tags": []
          },
          "execution_count": 30
        },
        {
          "output_type": "display_data",
          "data": {
            "image/png": "[encoded data removed]",
            "text/plain": [
              "<Figure size 432x288 with 1 Axes>"
            ]
          },
          "metadata": {
            "tags": [],
            "needs_background": "light"
          }
        }
      ]
    },
    {
      "cell_type": "code",
      "metadata": {
        "colab": {
          "base_uri": "https://localhost:8080/"
        },
        "id": "ToeS8uC1dz4g",
        "outputId": "a3f750d4-9a29-479f-bec0-b674acab4bdd"
      },
      "source": [
        "df['autism'].value_counts()"
      ],
      "execution_count": null,
      "outputs": [
        {
          "output_type": "execute_result",
          "data": {
            "text/plain": [
              "no     613\n",
              "yes     91\n",
              "Name: autism, dtype: int64"
            ]
          },
          "metadata": {
            "tags": []
          },
          "execution_count": 31
        }
      ]
    },
    {
      "cell_type": "code",
      "metadata": {
        "colab": {
          "base_uri": "https://localhost:8080/"
        },
        "id": "w0i0zFB-eBZn",
        "outputId": "33db0e44-0465-4e1a-b83e-f8e8fbce54a1"
      },
      "source": [
        "df['gender'].value_counts()"
      ],
      "execution_count": null,
      "outputs": [
        {
          "output_type": "execute_result",
          "data": {
            "text/plain": [
              "m    367\n",
              "f    337\n",
              "Name: gender, dtype: int64"
            ]
          },
          "metadata": {
            "tags": []
          },
          "execution_count": 32
        }
      ]
    },
    {
      "cell_type": "code",
      "metadata": {
        "colab": {
          "base_uri": "https://localhost:8080/"
        },
        "id": "Y6B3hNv-eBkP",
        "outputId": "eab167c4-b411-4329-a12f-997e6a5fd559"
      },
      "source": [
        "df['jundice'].value_counts()"
      ],
      "execution_count": null,
      "outputs": [
        {
          "output_type": "execute_result",
          "data": {
            "text/plain": [
              "no     635\n",
              "yes     69\n",
              "Name: jundice, dtype: int64"
            ]
          },
          "metadata": {
            "tags": []
          },
          "execution_count": 37
        }
      ]
    },
    {
      "cell_type": "markdown",
      "metadata": {
        "id": "HA7QZi62hwiv"
      },
      "source": [
        "percentage who are / have ..."
      ]
    },
    {
      "cell_type": "code",
      "metadata": {
        "id": "jXuR6MhZhvcJ"
      },
      "source": [
        "def percentage(column,response):\n",
        "  p = df[column].value_counts()[response]/ df[column].value_counts().sum()\n",
        "  print(column,':',p,response)"
      ],
      "execution_count": null,
      "outputs": []
    },
    {
      "cell_type": "code",
      "metadata": {
        "colab": {
          "base_uri": "https://localhost:8080/"
        },
        "id": "EH3HYj9fjEEe",
        "outputId": "10a09f38-2420-4c86-aece-430385c1d228"
      },
      "source": [
        "percentage('gender','m')"
      ],
      "execution_count": null,
      "outputs": [
        {
          "output_type": "stream",
          "text": [
            "gender : 0.5213068181818182 m\n"
          ],
          "name": "stdout"
        }
      ]
    },
    {
      "cell_type": "code",
      "metadata": {
        "colab": {
          "base_uri": "https://localhost:8080/"
        },
        "id": "ul9Oj5utjUmH",
        "outputId": "15994235-4ebe-4b47-e5a2-d316cb0ad6a1"
      },
      "source": [
        "percentage('jundice','yes')"
      ],
      "execution_count": null,
      "outputs": [
        {
          "output_type": "stream",
          "text": [
            "jundice : 0.09801136363636363 yes\n"
          ],
          "name": "stdout"
        }
      ]
    },
    {
      "cell_type": "code",
      "metadata": {
        "colab": {
          "base_uri": "https://localhost:8080/"
        },
        "id": "yZ48ZjVQjint",
        "outputId": "2c859aae-9eb5-411a-a117-67cf7da6a9f4"
      },
      "source": [
        "percentage('autism','yes')"
      ],
      "execution_count": null,
      "outputs": [
        {
          "output_type": "stream",
          "text": [
            "autism : 0.12926136363636365 yes\n"
          ],
          "name": "stdout"
        }
      ]
    },
    {
      "cell_type": "markdown",
      "metadata": {
        "id": "nmHi3B9WSYEa"
      },
      "source": [
        "##  Comparing Autism and age, gender, jaundice"
      ]
    },
    {
      "cell_type": "code",
      "metadata": {
        "id": "_5Z4IyvsPzpP"
      },
      "source": [
        "male = df['gender'] =='m'\n",
        "female = df['gender'] =='f'\n",
        "autism = df['autism'] == 'yes'\n",
        "jundice = df['jundice'] == 'yes'\n",
        "age = df['age']\n"
      ],
      "execution_count": null,
      "outputs": []
    },
    {
      "cell_type": "code",
      "metadata": {
        "id": "mVRKiYzEPznH"
      },
      "source": [
        "male_age = age[male]\n",
        "female_age = age[female]\n",
        "autism_age = age[autism]\n",
        "jundice_age = age[jundice]\n",
        "\n"
      ],
      "execution_count": null,
      "outputs": []
    },
    {
      "cell_type": "code",
      "metadata": {
        "colab": {
          "base_uri": "https://localhost:8080/",
          "height": 294
        },
        "id": "EaIdkwVGj2OH",
        "outputId": "d8d9a55b-d95e-47cf-b7fe-57567656ad6d"
      },
      "source": [
        "Pmf.from_seq(male_age).bar(label='Male')\n",
        "#Pmf.from_seq(female_age).plot(label='Female')\n",
        "#Pmf.from_seq(jundice_age).plot(label='Jundice')\n",
        "Pmf.from_seq(autism_age).bar(label='Autism',alpha = 0.5)\n",
        "plt.xlabel('Age (years)') \n",
        "plt.ylabel('PMF')\n",
        "plt.title('Distribution of male and autism')\n",
        "plt.legend();"
      ],
      "execution_count": null,
      "outputs": [
        {
          "output_type": "display_data",
          "data": {
            "image/png": "[encoded data removed]",
            "text/plain": [
              "<Figure size 432x288 with 1 Axes>"
            ]
          },
          "metadata": {
            "tags": [],
            "needs_background": "light"
          }
        }
      ]
    },
    {
      "cell_type": "markdown",
      "metadata": {
        "id": "0Jyo93P7mvQb"
      },
      "source": [
        "Compare pdf distributions by age"
      ]
    },
    {
      "cell_type": "code",
      "metadata": {
        "colab": {
          "base_uri": "https://localhost:8080/",
          "height": 311
        },
        "id": "eymDdOc1li6_",
        "outputId": "dbc265b4-838b-4f2b-847f-3ef7cac84904"
      },
      "source": [
        "sns.kdeplot(autism_age,label = 'autism')\n",
        "sns.kdeplot(male_age,label = 'male')\n",
        "sns.kdeplot(female_age,label = 'femae')\n",
        "sns.kdeplot(jundice_age,label = 'jundice')\n",
        "plt.title('Distribution by age')\n",
        "plt.legend()"
      ],
      "execution_count": null,
      "outputs": [
        {
          "output_type": "execute_result",
          "data": {
            "text/plain": [
              "<matplotlib.legend.Legend at 0x7fbf13c1aa90>"
            ]
          },
          "metadata": {
            "tags": []
          },
          "execution_count": 65
        },
        {
          "output_type": "display_data",
          "data": {
            "image/png": "[encoded data removed]",
            "text/plain": [
              "<Figure size 432x288 with 1 Axes>"
            ]
          },
          "metadata": {
            "tags": [],
            "needs_background": "light"
          }
        }
      ]
    },
    {
      "cell_type": "markdown",
      "metadata": {
        "id": "9-gJ5oDanHUs"
      },
      "source": [
        "#Ethnicity"
      ]
    },
    {
      "cell_type": "code",
      "metadata": {
        "colab": {
          "base_uri": "https://localhost:8080/"
        },
        "id": "1hKYF04Vne0F",
        "outputId": "6b86a350-82ff-4b96-ba5d-6b466fcd2dfe"
      },
      "source": [
        "df['ethnicity'].isnull().value_counts()"
      ],
      "execution_count": null,
      "outputs": [
        {
          "output_type": "execute_result",
          "data": {
            "text/plain": [
              "False    609\n",
              "True      95\n",
              "Name: ethnicity, dtype: int64"
            ]
          },
          "metadata": {
            "tags": []
          },
          "execution_count": 69
        }
      ]
    },
    {
      "cell_type": "code",
      "metadata": {
        "id": "xu3Ay2uPe6IK",
        "colab": {
          "base_uri": "https://localhost:8080/"
        },
        "outputId": "47981a30-468a-4ef6-b7ca-79946c812134"
      },
      "source": [
        "df['ethnicity'].value_counts()"
      ],
      "execution_count": null,
      "outputs": [
        {
          "output_type": "execute_result",
          "data": {
            "text/plain": [
              "White-European       233\n",
              "Asian                123\n",
              "'Middle Eastern '     92\n",
              "Black                 43\n",
              "'South Asian'         36\n",
              "Others                30\n",
              "Latino                20\n",
              "Hispanic              13\n",
              "Pasifika              12\n",
              "Turkish                6\n",
              "others                 1\n",
              "Name: ethnicity, dtype: int64"
            ]
          },
          "metadata": {
            "tags": []
          },
          "execution_count": 81
        }
      ]
    },
    {
      "cell_type": "code",
      "metadata": {
        "id": "8GxvClXsfGRt",
        "colab": {
          "base_uri": "https://localhost:8080/"
        },
        "outputId": "4e060f13-eed1-4247-82b3-b7ec2a92b0c4"
      },
      "source": [
        "df['ethnicity'].describe()"
      ],
      "execution_count": null,
      "outputs": [
        {
          "output_type": "execute_result",
          "data": {
            "text/plain": [
              "count                609\n",
              "unique                11\n",
              "top       White-European\n",
              "freq                 233\n",
              "Name: ethnicity, dtype: object"
            ]
          },
          "metadata": {
            "tags": []
          },
          "execution_count": 27
        }
      ]
    },
    {
      "cell_type": "code",
      "metadata": {
        "id": "lSKQQYVvOJzP",
        "colab": {
          "base_uri": "https://localhost:8080/",
          "height": 371
        },
        "outputId": "e3e6a011-a95f-44a8-c4e7-df3db6245fe9"
      },
      "source": [
        "pmf = Pmf.from_seq(df['ethnicity'])\n",
        "pmf.bar(alpha=0.7)\n",
        "\n",
        "decorate(xlabel='Ethnic groups',\n",
        "         ylabel='PMF',\n",
        "         title='Distribution of Ethnicity')\n",
        "\n",
        "plt.xticks(rotation=90);"
      ],
      "execution_count": null,
      "outputs": [
        {
          "output_type": "display_data",
          "data": {
            "image/png": "[encoded data removed]",
            "text/plain": [
              "<Figure size 432x288 with 1 Axes>"
            ]
          },
          "metadata": {
            "tags": [],
            "needs_background": "light"
          }
        }
      ]
    },
    {
      "cell_type": "code",
      "metadata": {
        "id": "f550RdWIumG5"
      },
      "source": [
        "# ethnicity and relation column is going to be removed the df\n",
        "# df.drop([\"ethnicity\", \"relation\"], axis=1, inplace=True)\n"
      ],
      "execution_count": null,
      "outputs": []
    },
    {
      "cell_type": "code",
      "metadata": {
        "id": "2ViD88aIsmfI"
      },
      "source": [
        "# the missing values in the age column will be handled by replacing the NaNs with mean value of the ages\n",
        "#df[\"age\"] = df[\"age\"].apply(pd.to_numeric)\n",
        "#df[\"age\"] = df[\"age\"].replace(np.nan, df[\"age\"].mean())"
      ],
      "execution_count": null,
      "outputs": []
    },
    {
      "cell_type": "code",
      "metadata": {
        "id": "y6QPTAi7umHN"
      },
      "source": [
        "#label_encoder = LabelEncoder()\n",
        "\n",
        "#stringColumns = ['gender', 'jundice', 'autism', 'used_app_before','Class/ASD']\n",
        "#for column in stringColumns:\n",
        "#    df[column] = label_encoder.fit_transform(df[column])"
      ],
      "execution_count": 74,
      "outputs": []
    },
    {
      "cell_type": "code",
      "metadata": {
        "id": "cz-oFPgAumHR"
      },
      "source": [
        ""
      ],
      "execution_count": 74,
      "outputs": []
    },
    {
      "cell_type": "markdown",
      "metadata": {
        "id": "QQYZ02786_WQ"
      },
      "source": [
        "## Questions that we hope to answer\n",
        "\n",
        "\n",
        "- Do people who have jaundice have a higher chance of being autistic?\n",
        "\n",
        "- Does your ethnicity affect your chances of being autistic?\n",
        "\n",
        "- Do more females tend to autistic than males?\n"
      ]
    },
    {
      "cell_type": "markdown",
      "metadata": {
        "id": "RiM2hnaj0kiB"
      },
      "source": [
        "## Getting the distribution of the variables"
      ]
    },
    {
      "cell_type": "markdown",
      "metadata": {
        "id": "Q-cYyHPISH1-"
      },
      "source": [
        "###Distribution for ethnicity"
      ]
    },
    {
      "cell_type": "code",
      "metadata": {
        "id": "leKUJnV42GEB",
        "colab": {
          "base_uri": "https://localhost:8080/"
        },
        "outputId": "b3c79c8f-c7b2-47d2-f34d-bbe035576a0c"
      },
      "source": [
        "values(df['ethnicity'])"
      ],
      "execution_count": null,
      "outputs": [
        {
          "output_type": "execute_result",
          "data": {
            "text/plain": [
              "'Middle Eastern '     92\n",
              "'South Asian'         36\n",
              "Asian                123\n",
              "Black                 43\n",
              "Hispanic              13\n",
              "Latino                20\n",
              "Others                30\n",
              "Pasifika              12\n",
              "Turkish                6\n",
              "White-European       233\n",
              "others                 1\n",
              "Name: ethnicity, dtype: int64"
            ]
          },
          "metadata": {
            "tags": []
          },
          "execution_count": 89
        }
      ]
    },
    {
      "cell_type": "markdown",
      "metadata": {
        "id": "YHPwgYri4knp"
      },
      "source": [
        "There is an 'Others' and 'others' value which means they are the same. We will merge these two values."
      ]
    },
    {
      "cell_type": "code",
      "metadata": {
        "id": "JftAn5pC3Fap"
      },
      "source": [
        "df['ethnicity'] = df['ethnicity'].replace('Others', 'others')"
      ],
      "execution_count": null,
      "outputs": []
    },
    {
      "cell_type": "markdown",
      "metadata": {
        "id": "hPYWPGT94_WW"
      },
      "source": [
        "Now, we can visualize the Probability mass distribution of ethinicity "
      ]
    },
    {
      "cell_type": "code",
      "metadata": {
        "id": "Kx_QwpKvumHV",
        "colab": {
          "base_uri": "https://localhost:8080/",
          "height": 371
        },
        "outputId": "28e09dd4-58c9-40a5-c93f-7d86592a28e9"
      },
      "source": [
        "pmf = Pmf.from_seq(df['ethnicity'])\n",
        "pmf.bar(alpha=0.7)\n",
        "\n",
        "decorate(xlabel='Ethnic groups',\n",
        "         ylabel='PMF',\n",
        "         title='Distribution of Ethnicity')\n",
        "\n",
        "plt.xticks(rotation=90);"
      ],
      "execution_count": 85,
      "outputs": [
        {
          "output_type": "display_data",
          "data": {
            "image/png": "[encoded data removed]",
            "text/plain": [
              "<Figure size 432x288 with 1 Axes>"
            ]
          },
          "metadata": {
            "tags": [],
            "needs_background": "light"
          }
        }
      ]
    },
    {
      "cell_type": "markdown",
      "metadata": {
        "id": "tqrYpwNh1Ml2"
      },
      "source": [
        "Use Groupby on Autism with jundice, gender and ethnicity"
      ]
    },
    {
      "cell_type": "markdown",
      "metadata": {
        "id": "m9mHlerH4ifi"
      },
      "source": [
        "Groupby Ethnicity and Autism"
      ]
    },
    {
      "cell_type": "code",
      "metadata": {
        "id": "c8bFowQKumHY"
      },
      "source": [
        "by_ethnicity = df.groupby(by= 'ethnicity')"
      ],
      "execution_count": 94,
      "outputs": []
    },
    {
      "cell_type": "code",
      "metadata": {
        "id": "ICMTSMeUAmpP",
        "colab": {
          "base_uri": "https://localhost:8080/",
          "height": 707
        },
        "outputId": "7228133a-d2d6-45da-d689-4cbee4d17373"
      },
      "source": [
        "pd.DataFrame(by_ethnicity['autism'].value_counts())"
      ],
      "execution_count": 98,
      "outputs": [
        {
          "output_type": "execute_result",
          "data": {
            "text/html": [
              "<div>\n",
              "<style scoped>\n",
              "    .dataframe tbody tr th:only-of-type {\n",
              "        vertical-align: middle;\n",
              "    }\n",
              "\n",
              "    .dataframe tbody tr th {\n",
              "        vertical-align: top;\n",
              "    }\n",
              "\n",
              "    .dataframe thead th {\n",
              "        text-align: right;\n",
              "    }\n",
              "</style>\n",
              "<table border=\"1\" class=\"dataframe\">\n",
              "  <thead>\n",
              "    <tr style=\"text-align: right;\">\n",
              "      <th></th>\n",
              "      <th></th>\n",
              "      <th>autism</th>\n",
              "    </tr>\n",
              "    <tr>\n",
              "      <th>ethnicity</th>\n",
              "      <th>autism</th>\n",
              "      <th></th>\n",
              "    </tr>\n",
              "  </thead>\n",
              "  <tbody>\n",
              "    <tr>\n",
              "      <th rowspan=\"2\" valign=\"top\">'Middle Eastern '</th>\n",
              "      <th>no</th>\n",
              "      <td>83</td>\n",
              "    </tr>\n",
              "    <tr>\n",
              "      <th>yes</th>\n",
              "      <td>9</td>\n",
              "    </tr>\n",
              "    <tr>\n",
              "      <th rowspan=\"2\" valign=\"top\">'South Asian'</th>\n",
              "      <th>no</th>\n",
              "      <td>34</td>\n",
              "    </tr>\n",
              "    <tr>\n",
              "      <th>yes</th>\n",
              "      <td>2</td>\n",
              "    </tr>\n",
              "    <tr>\n",
              "      <th rowspan=\"2\" valign=\"top\">Asian</th>\n",
              "      <th>no</th>\n",
              "      <td>118</td>\n",
              "    </tr>\n",
              "    <tr>\n",
              "      <th>yes</th>\n",
              "      <td>5</td>\n",
              "    </tr>\n",
              "    <tr>\n",
              "      <th rowspan=\"2\" valign=\"top\">Black</th>\n",
              "      <th>no</th>\n",
              "      <td>38</td>\n",
              "    </tr>\n",
              "    <tr>\n",
              "      <th>yes</th>\n",
              "      <td>5</td>\n",
              "    </tr>\n",
              "    <tr>\n",
              "      <th rowspan=\"2\" valign=\"top\">Hispanic</th>\n",
              "      <th>no</th>\n",
              "      <td>12</td>\n",
              "    </tr>\n",
              "    <tr>\n",
              "      <th>yes</th>\n",
              "      <td>1</td>\n",
              "    </tr>\n",
              "    <tr>\n",
              "      <th rowspan=\"2\" valign=\"top\">Latino</th>\n",
              "      <th>no</th>\n",
              "      <td>12</td>\n",
              "    </tr>\n",
              "    <tr>\n",
              "      <th>yes</th>\n",
              "      <td>8</td>\n",
              "    </tr>\n",
              "    <tr>\n",
              "      <th rowspan=\"2\" valign=\"top\">Others</th>\n",
              "      <th>no</th>\n",
              "      <td>28</td>\n",
              "    </tr>\n",
              "    <tr>\n",
              "      <th>yes</th>\n",
              "      <td>2</td>\n",
              "    </tr>\n",
              "    <tr>\n",
              "      <th rowspan=\"2\" valign=\"top\">Pasifika</th>\n",
              "      <th>no</th>\n",
              "      <td>10</td>\n",
              "    </tr>\n",
              "    <tr>\n",
              "      <th>yes</th>\n",
              "      <td>2</td>\n",
              "    </tr>\n",
              "    <tr>\n",
              "      <th rowspan=\"2\" valign=\"top\">Turkish</th>\n",
              "      <th>no</th>\n",
              "      <td>5</td>\n",
              "    </tr>\n",
              "    <tr>\n",
              "      <th>yes</th>\n",
              "      <td>1</td>\n",
              "    </tr>\n",
              "    <tr>\n",
              "      <th rowspan=\"2\" valign=\"top\">White-European</th>\n",
              "      <th>no</th>\n",
              "      <td>183</td>\n",
              "    </tr>\n",
              "    <tr>\n",
              "      <th>yes</th>\n",
              "      <td>50</td>\n",
              "    </tr>\n",
              "    <tr>\n",
              "      <th>others</th>\n",
              "      <th>no</th>\n",
              "      <td>1</td>\n",
              "    </tr>\n",
              "  </tbody>\n",
              "</table>\n",
              "</div>"
            ],
            "text/plain": [
              "                          autism\n",
              "ethnicity         autism        \n",
              "'Middle Eastern ' no          83\n",
              "                  yes          9\n",
              "'South Asian'     no          34\n",
              "                  yes          2\n",
              "Asian             no         118\n",
              "                  yes          5\n",
              "Black             no          38\n",
              "                  yes          5\n",
              "Hispanic          no          12\n",
              "                  yes          1\n",
              "Latino            no          12\n",
              "                  yes          8\n",
              "Others            no          28\n",
              "                  yes          2\n",
              "Pasifika          no          10\n",
              "                  yes          2\n",
              "Turkish           no           5\n",
              "                  yes          1\n",
              "White-European    no         183\n",
              "                  yes         50\n",
              "others            no           1"
            ]
          },
          "metadata": {
            "tags": []
          },
          "execution_count": 98
        }
      ]
    },
    {
      "cell_type": "markdown",
      "metadata": {
        "id": "59gn6Imn8N94"
      },
      "source": [
        "recode autism response, yes 1, no 0"
      ]
    },
    {
      "cell_type": "code",
      "metadata": {
        "id": "m4L4iA5u6biB"
      },
      "source": [
        "df['autism_recoded']= df['autism'].replace({'yes':1,'no':0})"
      ],
      "execution_count": 112,
      "outputs": []
    },
    {
      "cell_type": "code",
      "metadata": {
        "colab": {
          "base_uri": "https://localhost:8080/"
        },
        "id": "eF5pyXhE9EYc",
        "outputId": "20278c3c-470d-427d-dedc-e69b9c1a18a0"
      },
      "source": [
        "#recoded\n",
        "by_ethnicity['autism_recoded'].value_counts()"
      ],
      "execution_count": 113,
      "outputs": [
        {
          "output_type": "execute_result",
          "data": {
            "text/plain": [
              "ethnicity          autism_recoded\n",
              "'Middle Eastern '  0                  83\n",
              "                   1                   9\n",
              "'South Asian'      0                  34\n",
              "                   1                   2\n",
              "Asian              0                 118\n",
              "                   1                   5\n",
              "Black              0                  38\n",
              "                   1                   5\n",
              "Hispanic           0                  12\n",
              "                   1                   1\n",
              "Latino             0                  12\n",
              "                   1                   8\n",
              "Others             0                  28\n",
              "                   1                   2\n",
              "Pasifika           0                  10\n",
              "                   1                   2\n",
              "Turkish            0                   5\n",
              "                   1                   1\n",
              "White-European     0                 183\n",
              "                   1                  50\n",
              "others             0                   1\n",
              "Name: autism_recoded, dtype: int64"
            ]
          },
          "metadata": {
            "tags": []
          },
          "execution_count": 113
        }
      ]
    },
    {
      "cell_type": "code",
      "metadata": {
        "id": "DY7MK0-ZDv0E"
      },
      "source": [
        ""
      ],
      "execution_count": null,
      "outputs": []
    },
    {
      "cell_type": "markdown",
      "metadata": {
        "id": "tO3PMXXuDxKb"
      },
      "source": [
        "Latinos most likely to get autism, followed by white Europeans. Asians leat likely to get\n",
        "\n",
        "\n",
        "\n"
      ]
    },
    {
      "cell_type": "code",
      "metadata": {
        "colab": {
          "base_uri": "https://localhost:8080/",
          "height": 248
        },
        "id": "FedABEkp9ZHT",
        "outputId": "557d23d5-7813-42a9-c1e0-763e5a509be1"
      },
      "source": [
        "pd.DataFrame(by_ethnicity['autism_recoded'].mean().sort_values(ascending = False)).style.background_gradient(cmap='Reds')"
      ],
      "execution_count": 151,
      "outputs": [
        {
          "output_type": "execute_result",
          "data": {
            "text/html": [
              "<style  type=\"text/css\" >\n",
              "#T_79c2bd5c_2b8c_11eb_b065_0242ac1c0002row0_col0{\n",
              "            background-color:  #67000d;\n",
              "            color:  #f1f1f1;\n",
              "        }#T_79c2bd5c_2b8c_11eb_b065_0242ac1c0002row1_col0{\n",
              "            background-color:  #f75c41;\n",
              "            color:  #000000;\n",
              "        }#T_79c2bd5c_2b8c_11eb_b065_0242ac1c0002row2_col0,#T_79c2bd5c_2b8c_11eb_b065_0242ac1c0002row3_col0{\n",
              "            background-color:  #fc8565;\n",
              "            color:  #000000;\n",
              "        }#T_79c2bd5c_2b8c_11eb_b065_0242ac1c0002row4_col0{\n",
              "            background-color:  #fcae92;\n",
              "            color:  #000000;\n",
              "        }#T_79c2bd5c_2b8c_11eb_b065_0242ac1c0002row5_col0{\n",
              "            background-color:  #fcbda4;\n",
              "            color:  #000000;\n",
              "        }#T_79c2bd5c_2b8c_11eb_b065_0242ac1c0002row6_col0{\n",
              "            background-color:  #fdccb8;\n",
              "            color:  #000000;\n",
              "        }#T_79c2bd5c_2b8c_11eb_b065_0242ac1c0002row7_col0{\n",
              "            background-color:  #fdd4c2;\n",
              "            color:  #000000;\n",
              "        }#T_79c2bd5c_2b8c_11eb_b065_0242ac1c0002row8_col0{\n",
              "            background-color:  #fedccd;\n",
              "            color:  #000000;\n",
              "        }#T_79c2bd5c_2b8c_11eb_b065_0242ac1c0002row9_col0{\n",
              "            background-color:  #fee4d8;\n",
              "            color:  #000000;\n",
              "        }#T_79c2bd5c_2b8c_11eb_b065_0242ac1c0002row10_col0{\n",
              "            background-color:  #fff5f0;\n",
              "            color:  #000000;\n",
              "        }</style><table id=\"T_79c2bd5c_2b8c_11eb_b065_0242ac1c0002\" ><thead>    <tr>        <th class=\"blank level0\" ></th>        <th class=\"col_heading level0 col0\" >autism_recoded</th>    </tr>    <tr>        <th class=\"index_name level0\" >ethnicity</th>        <th class=\"blank\" ></th>    </tr></thead><tbody>\n",
              "                <tr>\n",
              "                        <th id=\"T_79c2bd5c_2b8c_11eb_b065_0242ac1c0002level0_row0\" class=\"row_heading level0 row0\" >Latino</th>\n",
              "                        <td id=\"T_79c2bd5c_2b8c_11eb_b065_0242ac1c0002row0_col0\" class=\"data row0 col0\" >0.400000</td>\n",
              "            </tr>\n",
              "            <tr>\n",
              "                        <th id=\"T_79c2bd5c_2b8c_11eb_b065_0242ac1c0002level0_row1\" class=\"row_heading level0 row1\" >White-European</th>\n",
              "                        <td id=\"T_79c2bd5c_2b8c_11eb_b065_0242ac1c0002row1_col0\" class=\"data row1 col0\" >0.214592</td>\n",
              "            </tr>\n",
              "            <tr>\n",
              "                        <th id=\"T_79c2bd5c_2b8c_11eb_b065_0242ac1c0002level0_row2\" class=\"row_heading level0 row2\" >Turkish</th>\n",
              "                        <td id=\"T_79c2bd5c_2b8c_11eb_b065_0242ac1c0002row2_col0\" class=\"data row2 col0\" >0.166667</td>\n",
              "            </tr>\n",
              "            <tr>\n",
              "                        <th id=\"T_79c2bd5c_2b8c_11eb_b065_0242ac1c0002level0_row3\" class=\"row_heading level0 row3\" >Pasifika</th>\n",
              "                        <td id=\"T_79c2bd5c_2b8c_11eb_b065_0242ac1c0002row3_col0\" class=\"data row3 col0\" >0.166667</td>\n",
              "            </tr>\n",
              "            <tr>\n",
              "                        <th id=\"T_79c2bd5c_2b8c_11eb_b065_0242ac1c0002level0_row4\" class=\"row_heading level0 row4\" >Black</th>\n",
              "                        <td id=\"T_79c2bd5c_2b8c_11eb_b065_0242ac1c0002row4_col0\" class=\"data row4 col0\" >0.116279</td>\n",
              "            </tr>\n",
              "            <tr>\n",
              "                        <th id=\"T_79c2bd5c_2b8c_11eb_b065_0242ac1c0002level0_row5\" class=\"row_heading level0 row5\" >'Middle Eastern '</th>\n",
              "                        <td id=\"T_79c2bd5c_2b8c_11eb_b065_0242ac1c0002row5_col0\" class=\"data row5 col0\" >0.097826</td>\n",
              "            </tr>\n",
              "            <tr>\n",
              "                        <th id=\"T_79c2bd5c_2b8c_11eb_b065_0242ac1c0002level0_row6\" class=\"row_heading level0 row6\" >Hispanic</th>\n",
              "                        <td id=\"T_79c2bd5c_2b8c_11eb_b065_0242ac1c0002row6_col0\" class=\"data row6 col0\" >0.076923</td>\n",
              "            </tr>\n",
              "            <tr>\n",
              "                        <th id=\"T_79c2bd5c_2b8c_11eb_b065_0242ac1c0002level0_row7\" class=\"row_heading level0 row7\" >Others</th>\n",
              "                        <td id=\"T_79c2bd5c_2b8c_11eb_b065_0242ac1c0002row7_col0\" class=\"data row7 col0\" >0.066667</td>\n",
              "            </tr>\n",
              "            <tr>\n",
              "                        <th id=\"T_79c2bd5c_2b8c_11eb_b065_0242ac1c0002level0_row8\" class=\"row_heading level0 row8\" >'South Asian'</th>\n",
              "                        <td id=\"T_79c2bd5c_2b8c_11eb_b065_0242ac1c0002row8_col0\" class=\"data row8 col0\" >0.055556</td>\n",
              "            </tr>\n",
              "            <tr>\n",
              "                        <th id=\"T_79c2bd5c_2b8c_11eb_b065_0242ac1c0002level0_row9\" class=\"row_heading level0 row9\" >Asian</th>\n",
              "                        <td id=\"T_79c2bd5c_2b8c_11eb_b065_0242ac1c0002row9_col0\" class=\"data row9 col0\" >0.040650</td>\n",
              "            </tr>\n",
              "            <tr>\n",
              "                        <th id=\"T_79c2bd5c_2b8c_11eb_b065_0242ac1c0002level0_row10\" class=\"row_heading level0 row10\" >others</th>\n",
              "                        <td id=\"T_79c2bd5c_2b8c_11eb_b065_0242ac1c0002row10_col0\" class=\"data row10 col0\" >0.000000</td>\n",
              "            </tr>\n",
              "    </tbody></table>"
            ],
            "text/plain": [
              "<pandas.io.formats.style.Styler at 0x7fbf0b95a748>"
            ]
          },
          "metadata": {
            "tags": []
          },
          "execution_count": 151
        }
      ]
    },
    {
      "cell_type": "code",
      "metadata": {
        "id": "0UNhz-wXEE6Y"
      },
      "source": [
        ""
      ],
      "execution_count": null,
      "outputs": []
    },
    {
      "cell_type": "markdown",
      "metadata": {
        "id": "FYSg-7cj5U8Z"
      },
      "source": [
        "By Gender"
      ]
    },
    {
      "cell_type": "code",
      "metadata": {
        "id": "chcVApWryEkI"
      },
      "source": [
        "by_gender = df.groupby('gender')"
      ],
      "execution_count": 99,
      "outputs": []
    },
    {
      "cell_type": "code",
      "metadata": {
        "id": "j43DpwsBTLfl",
        "colab": {
          "base_uri": "https://localhost:8080/",
          "height": 197
        },
        "outputId": "146eea0c-598d-4910-d69b-38c3b7cb84cd"
      },
      "source": [
        "pd.DataFrame(by_gender['autism'].value_counts())"
      ],
      "execution_count": 102,
      "outputs": [
        {
          "output_type": "execute_result",
          "data": {
            "text/html": [
              "<div>\n",
              "<style scoped>\n",
              "    .dataframe tbody tr th:only-of-type {\n",
              "        vertical-align: middle;\n",
              "    }\n",
              "\n",
              "    .dataframe tbody tr th {\n",
              "        vertical-align: top;\n",
              "    }\n",
              "\n",
              "    .dataframe thead th {\n",
              "        text-align: right;\n",
              "    }\n",
              "</style>\n",
              "<table border=\"1\" class=\"dataframe\">\n",
              "  <thead>\n",
              "    <tr style=\"text-align: right;\">\n",
              "      <th></th>\n",
              "      <th></th>\n",
              "      <th>autism</th>\n",
              "    </tr>\n",
              "    <tr>\n",
              "      <th>gender</th>\n",
              "      <th>autism</th>\n",
              "      <th></th>\n",
              "    </tr>\n",
              "  </thead>\n",
              "  <tbody>\n",
              "    <tr>\n",
              "      <th rowspan=\"2\" valign=\"top\">f</th>\n",
              "      <th>no</th>\n",
              "      <td>283</td>\n",
              "    </tr>\n",
              "    <tr>\n",
              "      <th>yes</th>\n",
              "      <td>54</td>\n",
              "    </tr>\n",
              "    <tr>\n",
              "      <th rowspan=\"2\" valign=\"top\">m</th>\n",
              "      <th>no</th>\n",
              "      <td>330</td>\n",
              "    </tr>\n",
              "    <tr>\n",
              "      <th>yes</th>\n",
              "      <td>37</td>\n",
              "    </tr>\n",
              "  </tbody>\n",
              "</table>\n",
              "</div>"
            ],
            "text/plain": [
              "               autism\n",
              "gender autism        \n",
              "f      no         283\n",
              "       yes         54\n",
              "m      no         330\n",
              "       yes         37"
            ]
          },
          "metadata": {
            "tags": []
          },
          "execution_count": 102
        }
      ]
    },
    {
      "cell_type": "code",
      "metadata": {
        "id": "WAZ7Hx495d1p"
      },
      "source": [
        "#df['gender_recoded'] = df['gender'].replace({'m':1,'f':0})"
      ],
      "execution_count": 134,
      "outputs": []
    },
    {
      "cell_type": "markdown",
      "metadata": {
        "id": "u2V5apCGGls8"
      },
      "source": [
        "Females more likely autism"
      ]
    },
    {
      "cell_type": "code",
      "metadata": {
        "colab": {
          "base_uri": "https://localhost:8080/"
        },
        "id": "kwbtihmCBiDg",
        "outputId": "3d01dcf3-55ed-4add-9197-b31d38d2f8b5"
      },
      "source": [
        "by_gender['autism_recoded'].mean()"
      ],
      "execution_count": 141,
      "outputs": [
        {
          "output_type": "execute_result",
          "data": {
            "text/plain": [
              "gender\n",
              "f    0.160237\n",
              "m    0.100817\n",
              "Name: autism_recoded, dtype: float64"
            ]
          },
          "metadata": {
            "tags": []
          },
          "execution_count": 141
        }
      ]
    },
    {
      "cell_type": "code",
      "metadata": {
        "id": "RZOcz-kQBiBH"
      },
      "source": [
        ""
      ],
      "execution_count": null,
      "outputs": []
    },
    {
      "cell_type": "markdown",
      "metadata": {
        "id": "xv_niJgOG25l"
      },
      "source": [
        "By Jundice"
      ]
    },
    {
      "cell_type": "code",
      "metadata": {
        "id": "aPEiZ7zXG7Zd"
      },
      "source": [
        "by_jundice = df.groupby('jundice')"
      ],
      "execution_count": 153,
      "outputs": []
    },
    {
      "cell_type": "markdown",
      "metadata": {
        "id": "ixOu9R2LHqvy"
      },
      "source": [
        "Jundice is more likely to cause autsim"
      ]
    },
    {
      "cell_type": "code",
      "metadata": {
        "colab": {
          "base_uri": "https://localhost:8080/"
        },
        "id": "KftvyccDG7cg",
        "outputId": "12fb5d0c-91b0-450e-80ec-1b42dd901c3d"
      },
      "source": [
        "by_jundice['autism_recoded'].mean()"
      ],
      "execution_count": 155,
      "outputs": [
        {
          "output_type": "execute_result",
          "data": {
            "text/plain": [
              "jundice\n",
              "no     0.111811\n",
              "yes    0.289855\n",
              "Name: autism_recoded, dtype: float64"
            ]
          },
          "metadata": {
            "tags": []
          },
          "execution_count": 155
        }
      ]
    },
    {
      "cell_type": "code",
      "metadata": {
        "id": "5eeobf0pG7fg"
      },
      "source": [
        ""
      ],
      "execution_count": null,
      "outputs": []
    },
    {
      "cell_type": "markdown",
      "metadata": {
        "id": "EuvB5KqEIlAH"
      },
      "source": [
        "By age\n",
        "\n",
        "Recode the ages on a 6 point scale"
      ]
    },
    {
      "cell_type": "code",
      "metadata": {
        "colab": {
          "base_uri": "https://localhost:8080/"
        },
        "id": "9PLUwVMGG7kU",
        "outputId": "eea9425c-cb24-4115-e426-8f0914b6f660"
      },
      "source": [
        "df['age'].describe()"
      ],
      "execution_count": 157,
      "outputs": [
        {
          "output_type": "execute_result",
          "data": {
            "text/plain": [
              "count    704.000000\n",
              "mean      29.209985\n",
              "std        9.693863\n",
              "min       17.000000\n",
              "25%       21.000000\n",
              "50%       27.000000\n",
              "75%       35.000000\n",
              "max       64.000000\n",
              "Name: age, dtype: float64"
            ]
          },
          "metadata": {
            "tags": []
          },
          "execution_count": 157
        }
      ]
    },
    {
      "cell_type": "code",
      "metadata": {
        "colab": {
          "base_uri": "https://localhost:8080/",
          "height": 317
        },
        "id": "DJqHQp1UJcD7",
        "outputId": "9f07e229-a576-42dd-c2bb-53e5459f906b"
      },
      "source": [
        "plt.hist(df['age'],[10,20,30,40,50,60,70])"
      ],
      "execution_count": 163,
      "outputs": [
        {
          "output_type": "execute_result",
          "data": {
            "text/plain": [
              "(array([ 84., 340., 166.,  80.,  30.,   4.]),\n",
              " array([10, 20, 30, 40, 50, 60, 70]),\n",
              " <a list of 6 Patch objects>)"
            ]
          },
          "metadata": {
            "tags": []
          },
          "execution_count": 163
        },
        {
          "output_type": "display_data",
          "data": {
            "image/png": "[encoded data removed]",
            "text/plain": [
              "<Figure size 432x288 with 1 Axes>"
            ]
          },
          "metadata": {
            "tags": [],
            "needs_background": "light"
          }
        }
      ]
    },
    {
      "cell_type": "code",
      "metadata": {
        "colab": {
          "base_uri": "https://localhost:8080/"
        },
        "id": "W0o9N2T_JcWD",
        "outputId": "2570dd31-037a-463a-961a-cb8febb945e9"
      },
      "source": [
        "codes = {}\n",
        "bins = [10,20,30,40,50,60,70]\n",
        "for i in range(int(df['age'].min()),int(df['age'].max()+1)): #generate ages in the distribution\n",
        "   if >bins[0] and i<bins[1]:\n",
        "     codes[i] = 1\n",
        "\n",
        "  "
      ],
      "execution_count": 167,
      "outputs": [
        {
          "output_type": "stream",
          "text": [
            "17\n",
            "18\n",
            "19\n",
            "20\n",
            "21\n",
            "22\n",
            "23\n",
            "24\n",
            "25\n",
            "26\n",
            "27\n",
            "28\n",
            "29\n",
            "30\n",
            "31\n",
            "32\n",
            "33\n",
            "34\n",
            "35\n",
            "36\n",
            "37\n",
            "38\n",
            "39\n",
            "40\n",
            "41\n",
            "42\n",
            "43\n",
            "44\n",
            "45\n",
            "46\n",
            "47\n",
            "48\n",
            "49\n",
            "50\n",
            "51\n",
            "52\n",
            "53\n",
            "54\n",
            "55\n",
            "56\n",
            "57\n",
            "58\n",
            "59\n",
            "60\n",
            "61\n",
            "62\n",
            "63\n",
            "64\n"
          ],
          "name": "stdout"
        }
      ]
    },
    {
      "cell_type": "code",
      "metadata": {
        "colab": {
          "base_uri": "https://localhost:8080/"
        },
        "id": "KE-Y65q7Kudy",
        "outputId": "36947903-62a8-4127-ba2f-847a974e2f67"
      },
      "source": [
        "df['age'].max()"
      ],
      "execution_count": 164,
      "outputs": [
        {
          "output_type": "execute_result",
          "data": {
            "text/plain": [
              "64.0"
            ]
          },
          "metadata": {
            "tags": []
          },
          "execution_count": 164
        }
      ]
    },
    {
      "cell_type": "markdown",
      "metadata": {
        "id": "jfWkrwxUBfdZ"
      },
      "source": [
        ""
      ]
    },
    {
      "cell_type": "code",
      "metadata": {
        "id": "6z-zL2eGab9x",
        "colab": {
          "base_uri": "https://localhost:8080/",
          "height": 142
        },
        "outputId": "928a731a-728d-41de-d4c3-3391c3eb9f8b"
      },
      "source": [
        "columns = ['autism', 'jundice', 'gender',]\n",
        "subset = df[columns]\n",
        "subset.corr()"
      ],
      "execution_count": null,
      "outputs": [
        {
          "output_type": "execute_result",
          "data": {
            "text/html": [
              "<div>\n",
              "<style scoped>\n",
              "    .dataframe tbody tr th:only-of-type {\n",
              "        vertical-align: middle;\n",
              "    }\n",
              "\n",
              "    .dataframe tbody tr th {\n",
              "        vertical-align: top;\n",
              "    }\n",
              "\n",
              "    .dataframe thead th {\n",
              "        text-align: right;\n",
              "    }\n",
              "</style>\n",
              "<table border=\"1\" class=\"dataframe\">\n",
              "  <thead>\n",
              "    <tr style=\"text-align: right;\">\n",
              "      <th></th>\n",
              "      <th>autism</th>\n",
              "      <th>jundice</th>\n",
              "      <th>gender</th>\n",
              "    </tr>\n",
              "  </thead>\n",
              "  <tbody>\n",
              "    <tr>\n",
              "      <th>autism</th>\n",
              "      <td>1.000000</td>\n",
              "      <td>0.157793</td>\n",
              "      <td>-0.088477</td>\n",
              "    </tr>\n",
              "    <tr>\n",
              "      <th>jundice</th>\n",
              "      <td>0.157793</td>\n",
              "      <td>1.000000</td>\n",
              "      <td>-0.018842</td>\n",
              "    </tr>\n",
              "    <tr>\n",
              "      <th>gender</th>\n",
              "      <td>-0.088477</td>\n",
              "      <td>-0.018842</td>\n",
              "      <td>1.000000</td>\n",
              "    </tr>\n",
              "  </tbody>\n",
              "</table>\n",
              "</div>"
            ],
            "text/plain": [
              "           autism   jundice    gender\n",
              "autism   1.000000  0.157793 -0.088477\n",
              "jundice  0.157793  1.000000 -0.018842\n",
              "gender  -0.088477 -0.018842  1.000000"
            ]
          },
          "metadata": {
            "tags": []
          },
          "execution_count": 97
        }
      ]
    },
    {
      "cell_type": "code",
      "metadata": {
        "id": "bYxi5Qw3yFmn",
        "colab": {
          "base_uri": "https://localhost:8080/",
          "height": 596
        },
        "outputId": "99d8584f-e636-484d-f04c-2d60f64d6e97"
      },
      "source": [
        "df.corr()"
      ],
      "execution_count": null,
      "outputs": [
        {
          "output_type": "execute_result",
          "data": {
            "text/html": [
              "<div>\n",
              "<style scoped>\n",
              "    .dataframe tbody tr th:only-of-type {\n",
              "        vertical-align: middle;\n",
              "    }\n",
              "\n",
              "    .dataframe tbody tr th {\n",
              "        vertical-align: top;\n",
              "    }\n",
              "\n",
              "    .dataframe thead th {\n",
              "        text-align: right;\n",
              "    }\n",
              "</style>\n",
              "<table border=\"1\" class=\"dataframe\">\n",
              "  <thead>\n",
              "    <tr style=\"text-align: right;\">\n",
              "      <th></th>\n",
              "      <th>A1_Score</th>\n",
              "      <th>A2_Score</th>\n",
              "      <th>A3_Score</th>\n",
              "      <th>A4_Score</th>\n",
              "      <th>A5_Score</th>\n",
              "      <th>A6_Score</th>\n",
              "      <th>A7_Score</th>\n",
              "      <th>A8_Score</th>\n",
              "      <th>A9_Score</th>\n",
              "      <th>A10_Score</th>\n",
              "      <th>age</th>\n",
              "      <th>gender</th>\n",
              "      <th>jundice</th>\n",
              "      <th>autism</th>\n",
              "      <th>used_app_before</th>\n",
              "      <th>result</th>\n",
              "      <th>Class/ASD</th>\n",
              "    </tr>\n",
              "  </thead>\n",
              "  <tbody>\n",
              "    <tr>\n",
              "      <th>A1_Score</th>\n",
              "      <td>1.000000</td>\n",
              "      <td>0.011539</td>\n",
              "      <td>0.074096</td>\n",
              "      <td>0.127814</td>\n",
              "      <td>0.169369</td>\n",
              "      <td>0.110199</td>\n",
              "      <td>0.217538</td>\n",
              "      <td>0.147640</td>\n",
              "      <td>0.145452</td>\n",
              "      <td>0.118413</td>\n",
              "      <td>0.006889</td>\n",
              "      <td>-0.075011</td>\n",
              "      <td>-0.019077</td>\n",
              "      <td>0.097630</td>\n",
              "      <td>-0.040620</td>\n",
              "      <td>0.397454</td>\n",
              "      <td>0.297628</td>\n",
              "    </tr>\n",
              "    <tr>\n",
              "      <th>A2_Score</th>\n",
              "      <td>0.011539</td>\n",
              "      <td>1.000000</td>\n",
              "      <td>0.223921</td>\n",
              "      <td>0.158998</td>\n",
              "      <td>0.153821</td>\n",
              "      <td>0.185864</td>\n",
              "      <td>-0.041768</td>\n",
              "      <td>0.035408</td>\n",
              "      <td>0.205421</td>\n",
              "      <td>0.068883</td>\n",
              "      <td>0.082541</td>\n",
              "      <td>-0.047393</td>\n",
              "      <td>0.112615</td>\n",
              "      <td>0.074555</td>\n",
              "      <td>-0.009645</td>\n",
              "      <td>0.392540</td>\n",
              "      <td>0.311382</td>\n",
              "    </tr>\n",
              "    <tr>\n",
              "      <th>A3_Score</th>\n",
              "      <td>0.074096</td>\n",
              "      <td>0.223921</td>\n",
              "      <td>1.000000</td>\n",
              "      <td>0.412722</td>\n",
              "      <td>0.264927</td>\n",
              "      <td>0.268846</td>\n",
              "      <td>0.078216</td>\n",
              "      <td>0.017771</td>\n",
              "      <td>0.315113</td>\n",
              "      <td>0.168454</td>\n",
              "      <td>0.097704</td>\n",
              "      <td>0.000795</td>\n",
              "      <td>0.061760</td>\n",
              "      <td>0.113697</td>\n",
              "      <td>0.055320</td>\n",
              "      <td>0.552356</td>\n",
              "      <td>0.441074</td>\n",
              "    </tr>\n",
              "    <tr>\n",
              "      <th>A4_Score</th>\n",
              "      <td>0.127814</td>\n",
              "      <td>0.158998</td>\n",
              "      <td>0.412722</td>\n",
              "      <td>1.000000</td>\n",
              "      <td>0.306806</td>\n",
              "      <td>0.295152</td>\n",
              "      <td>0.151236</td>\n",
              "      <td>0.008617</td>\n",
              "      <td>0.327673</td>\n",
              "      <td>0.210968</td>\n",
              "      <td>0.106653</td>\n",
              "      <td>-0.056508</td>\n",
              "      <td>0.064918</td>\n",
              "      <td>0.193820</td>\n",
              "      <td>0.023071</td>\n",
              "      <td>0.586025</td>\n",
              "      <td>0.469945</td>\n",
              "    </tr>\n",
              "    <tr>\n",
              "      <th>A5_Score</th>\n",
              "      <td>0.169369</td>\n",
              "      <td>0.153821</td>\n",
              "      <td>0.264927</td>\n",
              "      <td>0.306806</td>\n",
              "      <td>1.000000</td>\n",
              "      <td>0.392354</td>\n",
              "      <td>0.238589</td>\n",
              "      <td>0.102086</td>\n",
              "      <td>0.396582</td>\n",
              "      <td>0.267561</td>\n",
              "      <td>0.009049</td>\n",
              "      <td>-0.039688</td>\n",
              "      <td>0.034378</td>\n",
              "      <td>0.090009</td>\n",
              "      <td>0.000374</td>\n",
              "      <td>0.639706</td>\n",
              "      <td>0.537004</td>\n",
              "    </tr>\n",
              "    <tr>\n",
              "      <th>A6_Score</th>\n",
              "      <td>0.110199</td>\n",
              "      <td>0.185864</td>\n",
              "      <td>0.268846</td>\n",
              "      <td>0.295152</td>\n",
              "      <td>0.392354</td>\n",
              "      <td>1.000000</td>\n",
              "      <td>0.175489</td>\n",
              "      <td>0.100123</td>\n",
              "      <td>0.479422</td>\n",
              "      <td>0.294435</td>\n",
              "      <td>0.091645</td>\n",
              "      <td>-0.083615</td>\n",
              "      <td>0.078366</td>\n",
              "      <td>0.114048</td>\n",
              "      <td>0.087378</td>\n",
              "      <td>0.630012</td>\n",
              "      <td>0.592091</td>\n",
              "    </tr>\n",
              "    <tr>\n",
              "      <th>A7_Score</th>\n",
              "      <td>0.217538</td>\n",
              "      <td>-0.041768</td>\n",
              "      <td>0.078216</td>\n",
              "      <td>0.151236</td>\n",
              "      <td>0.238589</td>\n",
              "      <td>0.175489</td>\n",
              "      <td>1.000000</td>\n",
              "      <td>0.085403</td>\n",
              "      <td>0.189480</td>\n",
              "      <td>0.252107</td>\n",
              "      <td>-0.001181</td>\n",
              "      <td>0.061900</td>\n",
              "      <td>0.030850</td>\n",
              "      <td>-0.008610</td>\n",
              "      <td>-0.022505</td>\n",
              "      <td>0.454848</td>\n",
              "      <td>0.351429</td>\n",
              "    </tr>\n",
              "    <tr>\n",
              "      <th>A8_Score</th>\n",
              "      <td>0.147640</td>\n",
              "      <td>0.035408</td>\n",
              "      <td>0.017771</td>\n",
              "      <td>0.008617</td>\n",
              "      <td>0.102086</td>\n",
              "      <td>0.100123</td>\n",
              "      <td>0.085403</td>\n",
              "      <td>1.000000</td>\n",
              "      <td>0.101733</td>\n",
              "      <td>0.100782</td>\n",
              "      <td>-0.065972</td>\n",
              "      <td>0.064127</td>\n",
              "      <td>0.012101</td>\n",
              "      <td>0.034845</td>\n",
              "      <td>-0.041155</td>\n",
              "      <td>0.324020</td>\n",
              "      <td>0.237161</td>\n",
              "    </tr>\n",
              "    <tr>\n",
              "      <th>A9_Score</th>\n",
              "      <td>0.145452</td>\n",
              "      <td>0.205421</td>\n",
              "      <td>0.315113</td>\n",
              "      <td>0.327673</td>\n",
              "      <td>0.396582</td>\n",
              "      <td>0.479422</td>\n",
              "      <td>0.189480</td>\n",
              "      <td>0.101733</td>\n",
              "      <td>1.000000</td>\n",
              "      <td>0.283340</td>\n",
              "      <td>0.127663</td>\n",
              "      <td>0.006940</td>\n",
              "      <td>0.057717</td>\n",
              "      <td>0.167644</td>\n",
              "      <td>0.049567</td>\n",
              "      <td>0.661205</td>\n",
              "      <td>0.635576</td>\n",
              "    </tr>\n",
              "    <tr>\n",
              "      <th>A10_Score</th>\n",
              "      <td>0.118413</td>\n",
              "      <td>0.068883</td>\n",
              "      <td>0.168454</td>\n",
              "      <td>0.210968</td>\n",
              "      <td>0.267561</td>\n",
              "      <td>0.294435</td>\n",
              "      <td>0.252107</td>\n",
              "      <td>0.100782</td>\n",
              "      <td>0.283340</td>\n",
              "      <td>1.000000</td>\n",
              "      <td>0.046406</td>\n",
              "      <td>-0.055246</td>\n",
              "      <td>0.052201</td>\n",
              "      <td>0.117969</td>\n",
              "      <td>-0.041860</td>\n",
              "      <td>0.537205</td>\n",
              "      <td>0.385917</td>\n",
              "    </tr>\n",
              "    <tr>\n",
              "      <th>age</th>\n",
              "      <td>0.006889</td>\n",
              "      <td>0.082541</td>\n",
              "      <td>0.097704</td>\n",
              "      <td>0.106653</td>\n",
              "      <td>0.009049</td>\n",
              "      <td>0.091645</td>\n",
              "      <td>-0.001181</td>\n",
              "      <td>-0.065972</td>\n",
              "      <td>0.127663</td>\n",
              "      <td>0.046406</td>\n",
              "      <td>1.000000</td>\n",
              "      <td>-0.033266</td>\n",
              "      <td>0.127508</td>\n",
              "      <td>0.181510</td>\n",
              "      <td>-0.035530</td>\n",
              "      <td>0.097072</td>\n",
              "      <td>0.132040</td>\n",
              "    </tr>\n",
              "    <tr>\n",
              "      <th>gender</th>\n",
              "      <td>-0.075011</td>\n",
              "      <td>-0.047393</td>\n",
              "      <td>0.000795</td>\n",
              "      <td>-0.056508</td>\n",
              "      <td>-0.039688</td>\n",
              "      <td>-0.083615</td>\n",
              "      <td>0.061900</td>\n",
              "      <td>0.064127</td>\n",
              "      <td>0.006940</td>\n",
              "      <td>-0.055246</td>\n",
              "      <td>-0.033266</td>\n",
              "      <td>1.000000</td>\n",
              "      <td>-0.018842</td>\n",
              "      <td>-0.088477</td>\n",
              "      <td>-0.027584</td>\n",
              "      <td>-0.042231</td>\n",
              "      <td>-0.080378</td>\n",
              "    </tr>\n",
              "    <tr>\n",
              "      <th>jundice</th>\n",
              "      <td>-0.019077</td>\n",
              "      <td>0.112615</td>\n",
              "      <td>0.061760</td>\n",
              "      <td>0.064918</td>\n",
              "      <td>0.034378</td>\n",
              "      <td>0.078366</td>\n",
              "      <td>0.030850</td>\n",
              "      <td>0.012101</td>\n",
              "      <td>0.057717</td>\n",
              "      <td>0.052201</td>\n",
              "      <td>0.127508</td>\n",
              "      <td>-0.018842</td>\n",
              "      <td>1.000000</td>\n",
              "      <td>0.157793</td>\n",
              "      <td>0.030407</td>\n",
              "      <td>0.094842</td>\n",
              "      <td>0.102152</td>\n",
              "    </tr>\n",
              "    <tr>\n",
              "      <th>autism</th>\n",
              "      <td>0.097630</td>\n",
              "      <td>0.074555</td>\n",
              "      <td>0.113697</td>\n",
              "      <td>0.193820</td>\n",
              "      <td>0.090009</td>\n",
              "      <td>0.114048</td>\n",
              "      <td>-0.008610</td>\n",
              "      <td>0.034845</td>\n",
              "      <td>0.167644</td>\n",
              "      <td>0.117969</td>\n",
              "      <td>0.181510</td>\n",
              "      <td>-0.088477</td>\n",
              "      <td>0.157793</td>\n",
              "      <td>1.000000</td>\n",
              "      <td>0.014682</td>\n",
              "      <td>0.192033</td>\n",
              "      <td>0.177415</td>\n",
              "    </tr>\n",
              "    <tr>\n",
              "      <th>used_app_before</th>\n",
              "      <td>-0.040620</td>\n",
              "      <td>-0.009645</td>\n",
              "      <td>0.055320</td>\n",
              "      <td>0.023071</td>\n",
              "      <td>0.000374</td>\n",
              "      <td>0.087378</td>\n",
              "      <td>-0.022505</td>\n",
              "      <td>-0.041155</td>\n",
              "      <td>0.049567</td>\n",
              "      <td>-0.041860</td>\n",
              "      <td>-0.035530</td>\n",
              "      <td>-0.027584</td>\n",
              "      <td>0.030407</td>\n",
              "      <td>0.014682</td>\n",
              "      <td>1.000000</td>\n",
              "      <td>0.010975</td>\n",
              "      <td>0.044038</td>\n",
              "    </tr>\n",
              "    <tr>\n",
              "      <th>result</th>\n",
              "      <td>0.397454</td>\n",
              "      <td>0.392540</td>\n",
              "      <td>0.552356</td>\n",
              "      <td>0.586025</td>\n",
              "      <td>0.639706</td>\n",
              "      <td>0.630012</td>\n",
              "      <td>0.454848</td>\n",
              "      <td>0.324020</td>\n",
              "      <td>0.661205</td>\n",
              "      <td>0.537205</td>\n",
              "      <td>0.097072</td>\n",
              "      <td>-0.042231</td>\n",
              "      <td>0.094842</td>\n",
              "      <td>0.192033</td>\n",
              "      <td>0.010975</td>\n",
              "      <td>1.000000</td>\n",
              "      <td>0.821445</td>\n",
              "    </tr>\n",
              "    <tr>\n",
              "      <th>Class/ASD</th>\n",
              "      <td>0.297628</td>\n",
              "      <td>0.311382</td>\n",
              "      <td>0.441074</td>\n",
              "      <td>0.469945</td>\n",
              "      <td>0.537004</td>\n",
              "      <td>0.592091</td>\n",
              "      <td>0.351429</td>\n",
              "      <td>0.237161</td>\n",
              "      <td>0.635576</td>\n",
              "      <td>0.385917</td>\n",
              "      <td>0.132040</td>\n",
              "      <td>-0.080378</td>\n",
              "      <td>0.102152</td>\n",
              "      <td>0.177415</td>\n",
              "      <td>0.044038</td>\n",
              "      <td>0.821445</td>\n",
              "      <td>1.000000</td>\n",
              "    </tr>\n",
              "  </tbody>\n",
              "</table>\n",
              "</div>"
            ],
            "text/plain": [
              "                 A1_Score  A2_Score  ...    result  Class/ASD\n",
              "A1_Score         1.000000  0.011539  ...  0.397454   0.297628\n",
              "A2_Score         0.011539  1.000000  ...  0.392540   0.311382\n",
              "A3_Score         0.074096  0.223921  ...  0.552356   0.441074\n",
              "A4_Score         0.127814  0.158998  ...  0.586025   0.469945\n",
              "A5_Score         0.169369  0.153821  ...  0.639706   0.537004\n",
              "A6_Score         0.110199  0.185864  ...  0.630012   0.592091\n",
              "A7_Score         0.217538 -0.041768  ...  0.454848   0.351429\n",
              "A8_Score         0.147640  0.035408  ...  0.324020   0.237161\n",
              "A9_Score         0.145452  0.205421  ...  0.661205   0.635576\n",
              "A10_Score        0.118413  0.068883  ...  0.537205   0.385917\n",
              "age              0.006889  0.082541  ...  0.097072   0.132040\n",
              "gender          -0.075011 -0.047393  ... -0.042231  -0.080378\n",
              "jundice         -0.019077  0.112615  ...  0.094842   0.102152\n",
              "autism           0.097630  0.074555  ...  0.192033   0.177415\n",
              "used_app_before -0.040620 -0.009645  ...  0.010975   0.044038\n",
              "result           0.397454  0.392540  ...  1.000000   0.821445\n",
              "Class/ASD        0.297628  0.311382  ...  0.821445   1.000000\n",
              "\n",
              "[17 rows x 17 columns]"
            ]
          },
          "metadata": {
            "tags": []
          },
          "execution_count": 98
        }
      ]
    },
    {
      "cell_type": "code",
      "metadata": {
        "id": "dY2PAhLmyG0M"
      },
      "source": [
        ""
      ],
      "execution_count": null,
      "outputs": []
    }
  ]
}